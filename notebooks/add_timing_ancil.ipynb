{
 "cells": [
  {
   "cell_type": "code",
   "execution_count": 1,
   "metadata": {},
   "outputs": [
    {
     "name": "stdout",
     "output_type": "stream",
     "text": [
      "Populating the interactive namespace from numpy and matplotlib\n"
     ]
    }
   ],
   "source": [
    "%pylab inline"
   ]
  },
  {
   "cell_type": "code",
   "execution_count": 2,
   "metadata": {},
   "outputs": [],
   "source": [
    "import xarray as xr\n",
    "import numpy as np\n",
    "import pandas as pd\n",
    "from netCDF4 import Dataset\n",
    "from tqdm import tqdm\n",
    "from pathlib import Path\n",
    "import shutil\n",
    "from datetime import datetime"
   ]
  },
  {
   "cell_type": "code",
   "execution_count": 3,
   "metadata": {},
   "outputs": [],
   "source": [
    "ROOT = Path('../final')"
   ]
  },
  {
   "cell_type": "code",
   "execution_count": 4,
   "metadata": {},
   "outputs": [],
   "source": [
    "dirs = sorted(ROOT.glob('*/*/*/*'))"
   ]
  },
  {
   "cell_type": "code",
   "execution_count": 5,
   "metadata": {},
   "outputs": [],
   "source": [
    "f = next(dirs[0].glob('*temp_11_00um_20*'))"
   ]
  },
  {
   "cell_type": "code",
   "execution_count": 6,
   "metadata": {},
   "outputs": [],
   "source": [
    "ds = xr.open_dataset(f)"
   ]
  },
  {
   "cell_type": "code",
   "execution_count": 7,
   "metadata": {},
   "outputs": [],
   "source": [
    "f = '/ships19/cloud/scratch/cphillips/abi_scanline_time_luts/ABI-Time_Model_LUTS/ABI-Timeline05B_Mode 6A_20190612-183017.nc'"
   ]
  },
  {
   "cell_type": "code",
   "execution_count": 8,
   "metadata": {},
   "outputs": [],
   "source": [
    "ds = xr.open_dataset(f, mask_and_scale=False, decode_times=False)"
   ]
  },
  {
   "cell_type": "code",
   "execution_count": 9,
   "metadata": {},
   "outputs": [
    {
     "data": {
      "text/plain": [
       "<matplotlib.image.AxesImage at 0x7fae930d5d90>"
      ]
     },
     "execution_count": 9,
     "metadata": {},
     "output_type": "execute_result"
    },
    {
     "data": {
      "image/png": "[encoded data removed]",
      "text/plain": [
       "<Figure size 432x288 with 2 Axes>"
      ]
     },
     "metadata": {
      "needs_background": "light"
     },
     "output_type": "display_data"
    }
   ],
   "source": [
    "ds.FD_pixel_times[::8,::8].plot.imshow()"
   ]
  },
  {
   "cell_type": "code",
   "execution_count": 42,
   "metadata": {},
   "outputs": [],
   "source": [
    "def get_latlons(fname, bounds):\n",
    "    #this code is from here: https://github.com/makerportal/GOES-16-Fixed-Grid-Projection/blob/master/goes16_lat_lon_algorithm.py\n",
    "    \n",
    "    #Init file obj\n",
    "    g16nc = Dataset(fname)\n",
    "    \n",
    "    #Get projection information\n",
    "    proj_info = g16nc.variables['goes_imager_projection']\n",
    "    lon_origin = proj_info.longitude_of_projection_origin\n",
    "    H = proj_info.perspective_point_height+proj_info.semi_major_axis\n",
    "    r_eq = proj_info.semi_major_axis\n",
    "    r_pol = proj_info.semi_minor_axis\n",
    "    \n",
    "    # read ints\n",
    "    lat_rad_1d = g16nc.variables['x'][bounds[0]:bounds[1]]\n",
    "    lon_rad_1d = g16nc.variables['y'][bounds[2]:bounds[3]]\n",
    "    \n",
    "    # create meshgrid filled with radian angles\n",
    "    lat_rad,lon_rad = np.meshgrid(lat_rad_1d,lon_rad_1d)\n",
    "\n",
    "    # lat/lon calc routine from satellite radian angle vectors\n",
    "\n",
    "    lambda_0 = (lon_origin*np.pi)/180.0\n",
    "\n",
    "    a_var = np.power(np.sin(lat_rad),2.0) + (np.power(np.cos(lat_rad),2.0)*(np.power(np.cos(lon_rad),2.0)+(((r_eq*r_eq)/(r_pol*r_pol))*np.power(np.sin(lon_rad),2.0))))\n",
    "    b_var = -2.0*H*np.cos(lat_rad)*np.cos(lon_rad)\n",
    "    c_var = (H**2.0)-(r_eq**2.0)\n",
    "\n",
    "    r_s = (-1.0*b_var - np.sqrt((b_var**2)-(4.0*a_var*c_var)))/(2.0*a_var)\n",
    "\n",
    "    s_x = r_s*np.cos(lat_rad)*np.cos(lon_rad)\n",
    "    s_y = - r_s*np.sin(lat_rad)\n",
    "    s_z = r_s*np.cos(lat_rad)*np.sin(lon_rad)\n",
    "\n",
    "    lat = (180.0/np.pi)*(np.arctan(((r_eq*r_eq)/(r_pol*r_pol))*((s_z/np.sqrt(((H-s_x)*(H-s_x))+(s_y*s_y))))))\n",
    "    lon = (lambda_0 - np.arctan(s_y/(H-s_x)))*(180.0/np.pi)\n",
    "\n",
    "    return lat, lon\n",
    "\n",
    "\n",
    "def read_scan_line_time(fname, bounds):\n",
    "    dataset = Dataset(fname)\n",
    "    dt_start = dataset.time_coverage_start\n",
    "    dt_start = datetime.datetime.strptime(dt_start, '%Y-%m-%dT%H:%M:%S.%fZ')\n",
    "    \n",
    "    if dataset.timeline_id=='ABI Mode 6':\n",
    "        schedule_path = '/ships19/cloud/scratch/cphillips/abi_scanline_time_luts/ABI-Time_Model_LUTS/ABI-Timeline05B_Mode 6A_20190612-183017.nc'\n",
    "        timeline_dataset = Dataset(schedule_path)\n",
    "        time_delta_secs = timeline_dataset['FD_pixel_times'][:].T\n",
    "        time_delta_secs = time_delta_secs[bounds[0]:bounds[1], bounds[2]:bounds[3]]\n",
    "    else:\n",
    "        return\n",
    "    \n",
    "    dec_time_utc = dt_start.hour + dt_start.minute/60 + dt_start.second/60/60\n",
    "    scan_line_time = dec_time_utc + time_delta_secs.T/60/60\n",
    "    return scan_line_time\n",
    "\n",
    "def read_all_channels(df, df_idx=0, bounds=[0,5424, 0, 5424], varnames=['latlon', '12', 'solar_zenith']):\n",
    "    data = {}\n",
    "    \n",
    "    sample_fname = df[df.channel==12].iloc[df_idx]['fnames']\n",
    "    \n",
    "    # Loop through all requested variable names\n",
    "    for varname in varnames:\n",
    "        \n",
    "        # Get latitude and longitudes if requested\n",
    "        if 'latlon'==varname: data['lat'], data['lon'] = get_latlons(sample_fname, bounds)\n",
    "            \n",
    "        # Get the scan times of individual pixels\n",
    "        elif 'scan_line_time'==varname: data[varname] = read_scan_line_time(sample_fname, bounds)\n",
    "            \n",
    "        elif 'solar_zenith'==varname: data[varname] = read_solar_zenith(sample_fname, data['lat'], data['lon'], bounds)\n",
    "            \n",
    "        #If integer value above 6, then assume channel requested and read the BT from the corresponding file\n",
    "        elif int(varname)>=7:\n",
    "            channel_num = int(varname)\n",
    "            fname = df[df.channel==channel_num].iloc[df_idx]['fnames']\n",
    "            data[varname] = read_bt(fname, bounds)\n",
    "            \n",
    "    # Do this loop so we aren't using masked arrays\n",
    "    for key in list(data.keys()):\n",
    "        data[key] = np.array(data[key], dtype='float32')\n",
    "        \n",
    "    return data"
   ]
  },
  {
   "cell_type": "code",
   "execution_count": null,
   "metadata": {},
   "outputs": [],
   "source": []
  }
 ],
 "metadata": {
  "kernelspec": {
   "display_name": "Python 3",
   "language": "python",
   "name": "python3"
  },
  "language_info": {
   "codemirror_mode": {
    "name": "ipython",
    "version": 3
   },
   "file_extension": ".py",
   "mimetype": "text/x-python",
   "name": "python",
   "nbconvert_exporter": "python",
   "pygments_lexer": "ipython3",
   "version": "3.8.5"
  }
 },
 "nbformat": 4,
 "nbformat_minor": 4
}
