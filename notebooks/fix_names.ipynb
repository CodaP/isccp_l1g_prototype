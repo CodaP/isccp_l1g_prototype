{
 "cells": [
  {
   "cell_type": "code",
   "execution_count": 1,
   "id": "86ac970e",
   "metadata": {},
   "outputs": [],
   "source": [
    "from pathlib import Path\n",
    "import netCDF4"
   ]
  },
  {
   "cell_type": "code",
   "execution_count": 2,
   "id": "000ec0d1",
   "metadata": {},
   "outputs": [],
   "source": [
    "from tqdm import tqdm"
   ]
  },
  {
   "cell_type": "code",
   "execution_count": 16,
   "id": "9056dfc7",
   "metadata": {},
   "outputs": [
    {
     "name": "stderr",
     "output_type": "stream",
     "text": [
      "6397it [34:08,  3.12it/s]\n"
     ]
    }
   ],
   "source": [
    "with tqdm(Path('../final/').glob('*/*/*/*/*satellite_zenith_2*.nc')) as bar:\n",
    "    for f in bar:\n",
    "        dst = f.parent / f.name.replace('satellite_zenith_2','satellite_zenith_angle_2')\n",
    "        try:\n",
    "            nc = netCDF4.Dataset(f, mode='a')\n",
    "            nc.renameVariable('satellite_zenith', 'satellite_zenith_angle')\n",
    "            nc.close()\n",
    "            f.rename(dst)\n",
    "        except OSError:\n",
    "            f.unlink()"
   ]
  },
  {
   "cell_type": "code",
   "execution_count": 17,
   "id": "7a301fdd",
   "metadata": {},
   "outputs": [
    {
     "name": "stderr",
     "output_type": "stream",
     "text": [
      "17493it [1:27:58,  3.31it/s]\n"
     ]
    }
   ],
   "source": [
    "with tqdm(Path('../final/').glob('*/*/*/*/*satellite_azimuth_2*.nc')) as bar:\n",
    "    for f in bar:\n",
    "        dst = f.parent / f.name.replace('satellite_azimuth_2','satellite_azimuth_angle_2')\n",
    "        try:\n",
    "            nc = netCDF4.Dataset(f, mode='a')\n",
    "            nc.renameVariable('satellite_azimuth', 'satellite_azimuth_angle')\n",
    "            nc.close()\n",
    "            f.rename(dst)\n",
    "        except OSError:\n",
    "            f.unlink()"
   ]
  },
  {
   "cell_type": "code",
   "execution_count": null,
   "id": "9d3dd198",
   "metadata": {},
   "outputs": [],
   "source": []
  },
  {
   "cell_type": "code",
   "execution_count": null,
   "id": "63cccbf6",
   "metadata": {},
   "outputs": [],
   "source": []
  },
  {
   "cell_type": "code",
   "execution_count": null,
   "id": "40c4fad1",
   "metadata": {},
   "outputs": [],
   "source": []
  }
 ],
 "metadata": {
  "kernelspec": {
   "display_name": "Python 3",
   "language": "python",
   "name": "python3"
  },
  "language_info": {
   "codemirror_mode": {
    "name": "ipython",
    "version": 3
   },
   "file_extension": ".py",
   "mimetype": "text/x-python",
   "name": "python",
   "nbconvert_exporter": "python",
   "pygments_lexer": "ipython3",
   "version": "3.8.5"
  }
 },
 "nbformat": 4,
 "nbformat_minor": 5
}
