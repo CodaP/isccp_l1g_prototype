{
 "cells": [
  {
   "cell_type": "code",
   "execution_count": 1,
   "metadata": {},
   "outputs": [
    {
     "name": "stdout",
     "output_type": "stream",
     "text": [
      "Populating the interactive namespace from numpy and matplotlib\n"
     ]
    }
   ],
   "source": [
    "%pylab inline"
   ]
  },
  {
   "cell_type": "code",
   "execution_count": 2,
   "metadata": {},
   "outputs": [],
   "source": [
    "import xarray as xr\n",
    "import numpy as np\n",
    "import pandas as pd"
   ]
  },
  {
   "cell_type": "code",
   "execution_count": 3,
   "metadata": {},
   "outputs": [],
   "source": [
    "import sys\n",
    "sys.path.append('/ships19/cloud/scratch/cphillips/utility')\n",
    "import make_gif"
   ]
  },
  {
   "cell_type": "code",
   "execution_count": 4,
   "metadata": {},
   "outputs": [],
   "source": [
    "from pathlib import Path"
   ]
  },
  {
   "cell_type": "code",
   "execution_count": 5,
   "metadata": {},
   "outputs": [],
   "source": [
    "import PIL.Image"
   ]
  },
  {
   "cell_type": "code",
   "execution_count": 6,
   "metadata": {},
   "outputs": [],
   "source": [
    "from tqdm import tqdm"
   ]
  },
  {
   "cell_type": "code",
   "execution_count": 7,
   "metadata": {},
   "outputs": [],
   "source": [
    "f = '/ships19/cloud/scratch/cphillips/abi_scanline_time_luts/ABI-Time_Model_LUTS/ABI-Timeline05B_Mode 6A_20190612-183017.nc'"
   ]
  },
  {
   "cell_type": "code",
   "execution_count": 8,
   "metadata": {},
   "outputs": [],
   "source": [
    "#f = 'abi_scanline_time_luts/ABI-Time_Model_LUTS/A'"
   ]
  },
  {
   "cell_type": "code",
   "execution_count": 9,
   "metadata": {},
   "outputs": [],
   "source": [
    "ds = xr.open_dataset(f)"
   ]
  },
  {
   "cell_type": "code",
   "execution_count": 10,
   "metadata": {},
   "outputs": [],
   "source": [
    "f = '../l1b/2020/202010/20201001/20201001T0000/g16/temp_11_00um/OR_ABI-L1b-RadF-M6C14_G16_s20202750000195_e20202750009503_c20202750009581.nc'\n",
    "ds2 = xr.open_dataset(f)"
   ]
  },
  {
   "cell_type": "code",
   "execution_count": 11,
   "metadata": {},
   "outputs": [],
   "source": [
    "rad = (ds2.Rad[::4,::4].values/150).clip(0,1)"
   ]
  },
  {
   "cell_type": "code",
   "execution_count": 12,
   "metadata": {},
   "outputs": [],
   "source": [
    "times = (ds.FD_pixel_times[::4,::4]/1e9).T.astype(np.float32).values"
   ]
  },
  {
   "cell_type": "code",
   "execution_count": 13,
   "metadata": {},
   "outputs": [],
   "source": [
    "cmap = matplotlib.cm.get_cmap('Greys')"
   ]
  },
  {
   "cell_type": "code",
   "execution_count": 17,
   "metadata": {},
   "outputs": [
    {
     "name": "stderr",
     "output_type": "stream",
     "text": [
      "100%|██████████| 1152/1152 [04:58<00:00,  3.86it/s]\n"
     ]
    }
   ],
   "source": [
    "frames = np.arange(times.min(), times.max(), .5)\n",
    "buffer = np.zeros((*rad.shape, 3), dtype=np.uint8)\n",
    "video = Path('videos/timeline.mp4')\n",
    "with make_gif.make_video(video, framerate=24) as vid:\n",
    "    with tqdm(frames[:]) as bar:\n",
    "        for t in bar:\n",
    "            buffer[:] = cmap(rad, bytes=True)[:,:,:3]\n",
    "            buffer[times > t,:] = 0\n",
    "            im = PIL.Image.fromarray(buffer)\n",
    "            im.resize((1024,1024)).save(vid, format='png')"
   ]
  },
  {
   "cell_type": "code",
   "execution_count": 18,
   "metadata": {},
   "outputs": [
    {
     "data": {
      "text/html": [
       "<video autoplay loop controls><source src=\"videos/timeline.mp4\"/></video>"
      ],
      "text/plain": [
       "<IPython.core.display.HTML object>"
      ]
     },
     "execution_count": 18,
     "metadata": {},
     "output_type": "execute_result"
    }
   ],
   "source": [
    "make_gif.play_video(video)"
   ]
  },
  {
   "cell_type": "code",
   "execution_count": 20,
   "metadata": {},
   "outputs": [
    {
     "name": "stdout",
     "output_type": "stream",
     "text": [
      " 340_Timeline_05M_Mode6_v2.7.nc\n",
      " ABI-Timeline03G_Mode3_Cooling_ShortStars.nc\n",
      " ABI-Timeline03I_Mode6_Cooling_hybrid.nc\n",
      "'ABI-Timeline04A_Mode 4_20181219-104006.nc'\n",
      "'ABI-Timeline05B_Mode 6A_20190612-183017.nc'\n",
      " README.docx\n",
      " Timeline03C_Mode3_20180828-092953.nc\n",
      " Timeline05F_Mode6_20180828-092941.nc\n",
      "'Time Tagging Pixels.pptx'\n"
     ]
    }
   ],
   "source": [
    "!ls /ships19/cloud/scratch/cphillips/abi_scanline_time_luts/ABI-Time_Model_LUTS"
   ]
  },
  {
   "cell_type": "code",
   "execution_count": null,
   "metadata": {},
   "outputs": [],
   "source": []
  }
 ],
 "metadata": {
  "kernelspec": {
   "display_name": "Python 3",
   "language": "python",
   "name": "python3"
  },
  "language_info": {
   "codemirror_mode": {
    "name": "ipython",
    "version": 3
   },
   "file_extension": ".py",
   "mimetype": "text/x-python",
   "name": "python",
   "nbconvert_exporter": "python",
   "pygments_lexer": "ipython3",
   "version": "3.8.5"
  }
 },
 "nbformat": 4,
 "nbformat_minor": 4
}
