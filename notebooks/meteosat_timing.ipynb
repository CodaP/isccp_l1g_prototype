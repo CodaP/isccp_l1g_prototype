{
 "cells": [
  {
   "cell_type": "code",
   "execution_count": 1,
   "id": "440b9f48",
   "metadata": {},
   "outputs": [],
   "source": [
    "import xarray as xr\n",
    "import pandas as pd\n",
    "import numpy as np"
   ]
  },
  {
   "cell_type": "code",
   "execution_count": 2,
   "id": "d122aac5",
   "metadata": {},
   "outputs": [],
   "source": [
    "from pathlib import Path"
   ]
  },
  {
   "cell_type": "code",
   "execution_count": 3,
   "id": "efdc9057",
   "metadata": {},
   "outputs": [],
   "source": [
    "import warnings"
   ]
  },
  {
   "cell_type": "code",
   "execution_count": 4,
   "id": "06ec864b",
   "metadata": {},
   "outputs": [],
   "source": [
    "import satpy"
   ]
  },
  {
   "cell_type": "code",
   "execution_count": 5,
   "id": "77f4ad18",
   "metadata": {},
   "outputs": [],
   "source": [
    "import scipy.interpolate"
   ]
  },
  {
   "cell_type": "code",
   "execution_count": 6,
   "id": "8d0401e4",
   "metadata": {},
   "outputs": [],
   "source": [
    "import sys\n",
    "sys.path.append('../')"
   ]
  },
  {
   "cell_type": "code",
   "execution_count": 7,
   "id": "5af5d864",
   "metadata": {},
   "outputs": [],
   "source": [
    "import timing"
   ]
  },
  {
   "cell_type": "code",
   "execution_count": 8,
   "id": "43aea607",
   "metadata": {},
   "outputs": [],
   "source": [
    "import os\n",
    "os.environ['XRIT_DECOMPRESS_PATH'] = '/data/cphillips/isccp-ng/isccp_l1g_prototype/xrit/PublicDecompWT/xRITDecompress/xRITDecompress'"
   ]
  },
  {
   "cell_type": "code",
   "execution_count": 9,
   "id": "b1bf20cb",
   "metadata": {},
   "outputs": [
    {
     "name": "stderr",
     "output_type": "stream",
     "text": [
      "/data/cphillips/miniconda3/envs/dev/lib/python3.8/site-packages/pyproj/crs/crs.py:543: UserWarning: You will likely lose important projection information when converting to a PROJ string from another format. See: https://proj.org/faq.html#what-is-the-best-format-for-describing-coordinate-reference-systems\n",
      "  proj_string = self.to_proj4()\n",
      "/data/cphillips/miniconda3/envs/dev/lib/python3.8/site-packages/pyproj/crs/crs.py:543: UserWarning: You will likely lose important projection information when converting to a PROJ string from another format. See: https://proj.org/faq.html#what-is-the-best-format-for-describing-coordinate-reference-systems\n",
      "  proj_string = self.to_proj4()\n",
      "/data/cphillips/miniconda3/envs/dev/lib/python3.8/site-packages/pyproj/crs/crs.py:543: UserWarning: You will likely lose important projection information when converting to a PROJ string from another format. See: https://proj.org/faq.html#what-is-the-best-format-for-describing-coordinate-reference-systems\n",
      "  proj_string = self.to_proj4()\n",
      "/data/cphillips/miniconda3/envs/dev/lib/python3.8/site-packages/pyproj/crs/crs.py:543: UserWarning: You will likely lose important projection information when converting to a PROJ string from another format. See: https://proj.org/faq.html#what-is-the-best-format-for-describing-coordinate-reference-systems\n",
      "  proj_string = self.to_proj4()\n",
      "/data/cphillips/miniconda3/envs/dev/lib/python3.8/site-packages/pyproj/crs/crs.py:543: UserWarning: You will likely lose important projection information when converting to a PROJ string from another format. See: https://proj.org/faq.html#what-is-the-best-format-for-describing-coordinate-reference-systems\n",
      "  proj_string = self.to_proj4()\n",
      "/data/cphillips/miniconda3/envs/dev/lib/python3.8/site-packages/pyproj/crs/crs.py:543: UserWarning: You will likely lose important projection information when converting to a PROJ string from another format. See: https://proj.org/faq.html#what-is-the-best-format-for-describing-coordinate-reference-systems\n",
      "  proj_string = self.to_proj4()\n",
      "/data/cphillips/miniconda3/envs/dev/lib/python3.8/site-packages/pyproj/crs/crs.py:543: UserWarning: You will likely lose important projection information when converting to a PROJ string from another format. See: https://proj.org/faq.html#what-is-the-best-format-for-describing-coordinate-reference-systems\n",
      "  proj_string = self.to_proj4()\n"
     ]
    }
   ],
   "source": [
    "files_sub = list(Path('../l1b/2020/202010/20201001/20201001T0000/m8/temp_11_00um/').glob('*'))\n",
    "s = satpy.Scene(files_sub, reader='seviri_l1b_hrit')\n",
    "s.load(['IR_108'])"
   ]
  },
  {
   "cell_type": "code",
   "execution_count": 93,
   "id": "66cb54dd",
   "metadata": {},
   "outputs": [],
   "source": [
    "# def get_time_offset(d):\n",
    "#     acq_time = d.acq_time\n",
    "\n",
    "#     mask = acq_time.notnull()\n",
    "#     start_time = acq_time[mask].min()\n",
    "#     time_offset = (acq_time - start_time).astype(np.float64).where(mask)\n",
    "#     return time_offset.values/1e9"
   ]
  },
  {
   "cell_type": "code",
   "execution_count": 10,
   "id": "fbb6e482",
   "metadata": {},
   "outputs": [],
   "source": [
    "time_offset = timing.meteosat_get_time_offset(s['IR_108'])"
   ]
  },
  {
   "cell_type": "code",
   "execution_count": 11,
   "id": "5de50030",
   "metadata": {},
   "outputs": [],
   "source": [
    "# def estimate_pixel_time_offsets(time_offset):\n",
    "#     idx = np.arange(len(time_offset))\n",
    "#     new_idx = np.linspace(0, max(idx), len(time_offset)**2)\n",
    "#     interp = scipy.interpolate.interp1d(idx, time_offset, fill_value='extrapolate')\n",
    "#     pixel_times_flip = interp(new_idx).reshape((-1,len(time_offset)))\n",
    "\n",
    "#     pixel_times = pixel_times_flip[:,::-1]\n",
    "#     return pixel_times"
   ]
  },
  {
   "cell_type": "code",
   "execution_count": 12,
   "id": "4211c331",
   "metadata": {},
   "outputs": [],
   "source": [
    "time_offset = timing.meteosat_estimate_pixel_time_offsets(time_offset)"
   ]
  },
  {
   "cell_type": "code",
   "execution_count": null,
   "id": "87ab337a",
   "metadata": {},
   "outputs": [],
   "source": []
  },
  {
   "cell_type": "code",
   "execution_count": null,
   "id": "da72972e",
   "metadata": {},
   "outputs": [],
   "source": []
  }
 ],
 "metadata": {
  "kernelspec": {
   "display_name": "Python 3",
   "language": "python",
   "name": "python3"
  },
  "language_info": {
   "codemirror_mode": {
    "name": "ipython",
    "version": 3
   },
   "file_extension": ".py",
   "mimetype": "text/x-python",
   "name": "python",
   "nbconvert_exporter": "python",
   "pygments_lexer": "ipython3",
   "version": "3.8.5"
  }
 },
 "nbformat": 4,
 "nbformat_minor": 5
}
