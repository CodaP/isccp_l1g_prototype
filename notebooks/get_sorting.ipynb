{
 "cells": [
  {
   "cell_type": "code",
   "execution_count": 1,
   "metadata": {},
   "outputs": [
    {
     "name": "stdout",
     "output_type": "stream",
     "text": [
      "Populating the interactive namespace from numpy and matplotlib\n"
     ]
    }
   ],
   "source": [
    "%pylab inline"
   ]
  },
  {
   "cell_type": "code",
   "execution_count": 4,
   "metadata": {},
   "outputs": [],
   "source": [
    "import numpy as np\n",
    "import pandas as pd\n",
    "import xarray as xr\n",
    "\n",
    "from utils import AHI_BANDS, ABI_BANDS, remap, WMO_IDS\n",
    "\n",
    "from tqdm import tqdm\n",
    "\n",
    "import netCDF4\n",
    "\n",
    "from pathlib import Path"
   ]
  },
  {
   "cell_type": "code",
   "execution_count": 32,
   "metadata": {},
   "outputs": [],
   "source": [
    "SATZEN_CACHE = Path('satzen_cache/')\n",
    "INDEX = Path('index')\n",
    "COMP_CACHE = Path('composite_cache')\n",
    "COMP_CACHE.mkdir(exist_ok=True)"
   ]
  },
  {
   "cell_type": "code",
   "execution_count": 33,
   "metadata": {},
   "outputs": [],
   "source": [
    "grid_shape = int(180/.05), int(360/.05)"
   ]
  },
  {
   "cell_type": "code",
   "execution_count": 39,
   "metadata": {},
   "outputs": [
    {
     "name": "stderr",
     "output_type": "stream",
     "text": [
      "100%|██████████| 3/3 [00:06<00:00,  2.01s/it]\n"
     ]
    }
   ],
   "source": [
    "satzens = xr.DataArray(np.full((3, *grid_shape), np.nan, dtype=np.float32), dims=['layer','latitude','longitude'])\n",
    "wmo_ids = xr.DataArray(np.full((3, *grid_shape), np.nan, dtype=np.uint16), dims=['layer','latitude','longitude'])\n",
    "with tqdm([('g16',ABI_BANDS),('g17', ABI_BANDS),('h8', AHI_BANDS)]) as bar:\n",
    "    for i,(sat, band_lookup) in enumerate(bar):\n",
    "        wmo_id = WMO_IDS[sat]\n",
    "        index_band = band_lookup['temp_11_00um']\n",
    "        index_dir = INDEX / sat / f'{index_band:02d}'\n",
    "        src_index = np.memmap(index_dir / 'src_index.dat', mode='r', dtype=np.uint64)\n",
    "        dst_index = np.memmap(index_dir / 'dst_index.dat', mode='r', dtype=np.uint64)\n",
    "        satzen = xr.open_dataset(SATZEN_CACHE / f'{sat}_satzen.nc')\n",
    "        satzens.values[i,...] = remap(src_index, dst_index, satzen.satzen.values, grid_shape)\n",
    "        wmo_ids[i,...] = wmo_id"
   ]
  },
  {
   "cell_type": "code",
   "execution_count": 40,
   "metadata": {},
   "outputs": [],
   "source": [
    "argsort = satzens.fillna(900).argsort(axis=0)"
   ]
  },
  {
   "cell_type": "code",
   "execution_count": 41,
   "metadata": {},
   "outputs": [],
   "source": [
    "satzens_sort = xr.DataArray(np.take_along_axis(satzens.values, argsort, 0), dims=satzens.dims)\n",
    "wmo_ids_sort = xr.DataArray(np.take_along_axis(wmo_ids.values, argsort, 0), dims=satids.dims)"
   ]
  },
  {
   "cell_type": "code",
   "execution_count": 44,
   "metadata": {},
   "outputs": [],
   "source": [
    "satids_sort.to_dataset(name='wmo_id').to_netcdf(COMP_CACHE / 'wmo_id.nc', encoding={'wmo_id':{'zlib':True}})"
   ]
  },
  {
   "cell_type": "code",
   "execution_count": 46,
   "metadata": {},
   "outputs": [],
   "source": [
    "satzens_sort.to_dataset(name='satzen').to_netcdf(COMP_CACHE / 'satzen.nc',\n",
    "                                                 encoding={\n",
    "                                                     'satzen':{'zlib':True, 'scale_factor':.1,\n",
    "                                                               'dtype':'i2',\n",
    "                                                               '_FillValue':netCDF4.default_fillvals['i2']}})"
   ]
  },
  {
   "cell_type": "code",
   "execution_count": 1,
   "metadata": {},
   "outputs": [],
   "source": [
    "%load_ext autoreload\n",
    "%autoreload 2"
   ]
  },
  {
   "cell_type": "code",
   "execution_count": 2,
   "metadata": {},
   "outputs": [],
   "source": [
    "import get_sorting"
   ]
  },
  {
   "cell_type": "code",
   "execution_count": 6,
   "metadata": {},
   "outputs": [
    {
     "name": "stderr",
     "output_type": "stream",
     "text": [
      "100%|██████████| 3/3 [00:05<00:00,  2.00s/it]\n"
     ]
    }
   ],
   "source": [
    "get_sorting.main()"
   ]
  },
  {
   "cell_type": "code",
   "execution_count": null,
   "metadata": {},
   "outputs": [],
   "source": []
  }
 ],
 "metadata": {
  "kernelspec": {
   "display_name": "Python 3",
   "language": "python",
   "name": "python3"
  },
  "language_info": {
   "codemirror_mode": {
    "name": "ipython",
    "version": 3
   },
   "file_extension": ".py",
   "mimetype": "text/x-python",
   "name": "python",
   "nbconvert_exporter": "python",
   "pygments_lexer": "ipython3",
   "version": "3.8.5"
  }
 },
 "nbformat": 4,
 "nbformat_minor": 4
}
