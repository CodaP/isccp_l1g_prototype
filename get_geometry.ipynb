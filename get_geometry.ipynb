{
 "cells": [
  {
   "cell_type": "code",
   "execution_count": 1,
   "metadata": {},
   "outputs": [
    {
     "name": "stdout",
     "output_type": "stream",
     "text": [
      "Populating the interactive namespace from numpy and matplotlib\n"
     ]
    }
   ],
   "source": [
    "%pylab inline"
   ]
  },
  {
   "cell_type": "code",
   "execution_count": 1,
   "metadata": {},
   "outputs": [],
   "source": [
    "import make_index\n",
    "\n",
    "import satpy\n",
    "\n",
    "import pandas as pd\n",
    "import xarray as xr\n",
    "\n",
    "import netCDF4\n",
    "\n",
    "import cartopy.crs as ccrs\n",
    "\n",
    "from satpy.readers.utils import bbox, get_geostationary_angle_extent\n",
    "\n",
    "from utils import spherical_angle_add, ABI_BANDS, AHI_BANDS\n",
    "\n",
    "from pathlib import Path\n",
    "\n",
    "import warnings"
   ]
  },
  {
   "cell_type": "markdown",
   "metadata": {},
   "source": [
    "# Develop"
   ]
  },
  {
   "cell_type": "code",
   "execution_count": 10,
   "metadata": {},
   "outputs": [],
   "source": [
    "f = 'l1b/g16/20200925T1800/01/OR_ABI-L1b-RadF-M6C01_G16_s20202691800201_e20202691809509_c20202691809570.nc'"
   ]
  },
  {
   "cell_type": "code",
   "execution_count": 13,
   "metadata": {},
   "outputs": [
    {
     "name": "stderr",
     "output_type": "stream",
     "text": [
      "No filenames found for reader: scatsat1_l2b\n",
      "No filenames found for reader: tropomi_l2\n",
      "No filenames found for reader: nwcsaf-msg2013-hdf5\n",
      "No filenames found for reader: olci_l2\n",
      "No filenames found for reader: ahi_hsd\n",
      "No filenames found for reader: clavrx\n",
      "No filenames found for reader: cmsaf-claas2_l2_nc\n",
      "No filenames found for reader: iasi_l2\n",
      "No filenames found for reader: omps_edr\n",
      "No filenames found for reader: viirs_compact\n",
      "No filenames found for reader: nwcsaf-geo\n",
      "No filenames found for reader: sar-c_safe\n",
      "No filenames found for reader: mimicTPW2_comp\n",
      "No filenames found for reader: goes-imager_nc\n",
      "No filenames found for reader: olci_l1b\n",
      "No filenames found for reader: agri_l1\n",
      "No filenames found for reader: modis_l1b\n",
      "No filenames found for reader: modis_l2\n",
      "No filenames found for reader: seviri_l1b_native\n",
      "No filenames found for reader: fci_l2_nc\n",
      "No filenames found for reader: glm_l2\n",
      "No filenames found for reader: slstr_l1b\n",
      "No filenames found for reader: slstr_l2\n",
      "No filenames found for reader: jami_hrit\n",
      "No filenames found for reader: goes-imager_hrit\n",
      "No filenames found for reader: ahi_hrit\n",
      "No filenames found for reader: maia\n",
      "No filenames found for reader: mersi2_l1b\n",
      "No filenames found for reader: viirs_l1b\n",
      "No filenames found for reader: avhrr_l1b_aapp\n",
      "No filenames found for reader: hy2_scat_l2b_h5\n",
      "No filenames found for reader: seviri_l1b_icare\n",
      "No filenames found for reader: generic_image\n",
      "No filenames found for reader: viirs_edr_flood\n",
      "No filenames found for reader: virr_l1b\n",
      "No filenames found for reader: caliop_l2_cloud\n",
      "No filenames found for reader: fci_l1c_fdhsi\n",
      "No filenames found for reader: nwcsaf-pps_nc\n",
      "No filenames found for reader: viirs_edr_active_fires\n",
      "No filenames found for reader: amsr2_l2\n",
      "No filenames found for reader: mtsat2-imager_hrit\n",
      "No filenames found for reader: abi_l2_nc\n",
      "No filenames found for reader: smos_l2_wind\n",
      "No filenames found for reader: avhrr_l1b_eps\n",
      "No filenames found for reader: vii_l1b_nc\n",
      "No filenames found for reader: viirs_sdr\n",
      "No filenames found for reader: abi_l1b_scmi\n",
      "/data/cphillips/miniconda3/envs/dev/lib/python3.8/site-packages/pyproj/crs/crs.py:543: UserWarning: You will likely lose important projection information when converting to a PROJ string from another format. See: https://proj.org/faq.html#what-is-the-best-format-for-describing-coordinate-reference-systems\n",
      "  proj_string = self.to_proj4()\n"
     ]
    }
   ],
   "source": [
    "area = make_index.get_area([f])"
   ]
  },
  {
   "cell_type": "code",
   "execution_count": 14,
   "metadata": {},
   "outputs": [
    {
     "data": {
      "text/plain": [
       "(10848, 10848)"
      ]
     },
     "execution_count": 14,
     "metadata": {},
     "output_type": "execute_result"
    }
   ],
   "source": [
    "area.shape"
   ]
  },
  {
   "cell_type": "code",
   "execution_count": 1,
   "metadata": {},
   "outputs": [],
   "source": [
    "height, width = 100,100"
   ]
  },
  {
   "cell_type": "code",
   "execution_count": 23,
   "metadata": {},
   "outputs": [],
   "source": [
    "xang, yang = get_geostationary_angle_extent(area)"
   ]
  },
  {
   "cell_type": "code",
   "execution_count": 24,
   "metadata": {},
   "outputs": [],
   "source": [
    "x,y = np.meshgrid(np.linspace(-xang, xang,width), np.linspace(-yang, yang, height))"
   ]
  },
  {
   "cell_type": "code",
   "execution_count": 25,
   "metadata": {},
   "outputs": [],
   "source": [
    "proj = area.to_cartopy_crs()"
   ]
  },
  {
   "cell_type": "code",
   "execution_count": 26,
   "metadata": {},
   "outputs": [],
   "source": [
    "h = proj.proj4_params['h']"
   ]
  },
  {
   "cell_type": "code",
   "execution_count": 27,
   "metadata": {},
   "outputs": [],
   "source": [
    "lon,lat = ccrs.PlateCarree().transform_points(proj, y*h, x*h).T[:2]"
   ]
  },
  {
   "cell_type": "markdown",
   "metadata": {},
   "source": [
    "$$ \\cos c= \\cos a \\cos b + \\sin a \\sin b \\cos C $$\n",
    "\n",
    "![trig](https://upload.wikimedia.org/wikipedia/commons/thumb/1/1d/Spherical_trigonometry_basic_triangle.svg/400px-Spherical_trigonometry_basic_triangle.svg.png)"
   ]
  },
  {
   "cell_type": "code",
   "execution_count": 28,
   "metadata": {},
   "outputs": [],
   "source": [
    "# def spherical_angle_add(a, b):\n",
    "#     C = np.pi/2  # a1 and a2 are orthogonal\n",
    "#     cosc = np.cos(a)*np.cos(b)+abs(np.sin(a)*np.sin(b))*np.cos(C)\n",
    "#     c = np.arccos(cosc)\n",
    "#     return c"
   ]
  },
  {
   "cell_type": "code",
   "execution_count": 29,
   "metadata": {},
   "outputs": [
    {
     "name": "stderr",
     "output_type": "stream",
     "text": [
      "/data/cphillips/isccp-ng/isccp_l1g_prototype/utils.py:31: RuntimeWarning: invalid value encountered in cos\n",
      "  cosc = np.cos(a)*np.cos(b)+abs(np.sin(a)*np.sin(b))*np.cos(C)\n",
      "/data/cphillips/isccp-ng/isccp_l1g_prototype/utils.py:31: RuntimeWarning: invalid value encountered in sin\n",
      "  cosc = np.cos(a)*np.cos(b)+abs(np.sin(a)*np.sin(b))*np.cos(C)\n"
     ]
    }
   ],
   "source": [
    "a = np.deg2rad(lon - proj.proj4_params['lon_0'])\n",
    "b = np.deg2rad(lat)\n",
    "star_zen = np.rad2deg(spherical_angle_add(a, b))"
   ]
  },
  {
   "cell_type": "code",
   "execution_count": 30,
   "metadata": {},
   "outputs": [],
   "source": [
    "sat_ang = np.rad2deg(spherical_angle_add(x, y))"
   ]
  },
  {
   "cell_type": "code",
   "execution_count": 31,
   "metadata": {},
   "outputs": [],
   "source": [
    "sat_zen = sat_ang + star_zen"
   ]
  },
  {
   "cell_type": "code",
   "execution_count": 19,
   "metadata": {},
   "outputs": [
    {
     "data": {
      "image/png": "[encoded data removed]",
      "text/plain": [
       "<Figure size 432x288 with 2 Axes>"
      ]
     },
     "metadata": {
      "needs_background": "light"
     },
     "output_type": "display_data"
    }
   ],
   "source": [
    "# imshow(sat_zen, origin='lower', vmin=0, vmax=90)\n",
    "# colorbar();"
   ]
  },
  {
   "cell_type": "markdown",
   "metadata": {},
   "source": [
    "# Run all"
   ]
  },
  {
   "cell_type": "code",
   "execution_count": 10,
   "metadata": {},
   "outputs": [],
   "source": [
    "def get_satzen(area):\n",
    "    height, width = area.shape\n",
    "    xang, yang = get_geostationary_angle_extent(area)\n",
    "    x,y = np.meshgrid(np.linspace(-xang, xang,width, dtype=np.float32),\n",
    "                      np.linspace(-yang, yang, height, dtype=np.float32))\n",
    "    proj = area.to_cartopy_crs()\n",
    "    h = proj.proj4_params['h']\n",
    "    lon,lat = ccrs.PlateCarree().transform_points(proj, y*h, x*h).T[:2]\n",
    "    a = np.deg2rad(lon - proj.proj4_params['lon_0'])\n",
    "    b = np.deg2rad(lat)\n",
    "    star_zen = np.rad2deg(spherical_angle_add(a, b))\n",
    "    sat_ang = np.rad2deg(spherical_angle_add(x, y))\n",
    "    sat_zen = sat_ang + star_zen\n",
    "    return sat_zen.astype(np.float32)"
   ]
  },
  {
   "cell_type": "code",
   "execution_count": 11,
   "metadata": {},
   "outputs": [],
   "source": [
    "SATZEN_CACHE = Path('satzen_cache')\n",
    "SATZEN_CACHE.mkdir(exist_ok=True)"
   ]
  },
  {
   "cell_type": "code",
   "execution_count": 12,
   "metadata": {},
   "outputs": [],
   "source": [
    "L1B = Path('l1b')"
   ]
  },
  {
   "cell_type": "code",
   "execution_count": 13,
   "metadata": {},
   "outputs": [],
   "source": [
    "encoding = {\n",
    "    'satzen':{\n",
    "        'zlib':True,\n",
    "        'scale_factor':.1,\n",
    "        'dtype':'i2',\n",
    "        '_FillValue':netCDF4.default_fillvals['i2']\n",
    "    }\n",
    "}"
   ]
  },
  {
   "cell_type": "code",
   "execution_count": 14,
   "metadata": {},
   "outputs": [
    {
     "name": "stdout",
     "output_type": "stream",
     "text": [
      "satzen_cache/g16_satzen.nc\n",
      "satzen_cache/g17_satzen.nc\n"
     ]
    },
    {
     "name": "stderr",
     "output_type": "stream",
     "text": [
      "/data/cphillips/miniconda3/envs/dev/lib/python3.8/site-packages/pyproj/crs/crs.py:543: UserWarning: You will likely lose important projection information when converting to a PROJ string from another format. See: https://proj.org/faq.html#what-is-the-best-format-for-describing-coordinate-reference-systems\n",
      "  proj_string = self.to_proj4()\n"
     ]
    },
    {
     "name": "stdout",
     "output_type": "stream",
     "text": [
      "satzen_cache/h8_satzen.nc\n"
     ]
    }
   ],
   "source": [
    "cache = {}\n",
    "for sat, band_lookup, reader in [('g16', ABI_BANDS, 'abi_l1b'),\n",
    "            ('g17', ABI_BANDS, 'abi_l1b'),\n",
    "            ('h8', AHI_BANDS, 'ahi_hsd')]:\n",
    "    for dt in (L1B / sat).glob('*'):\n",
    "        band = band_lookup['temp_11_00um']\n",
    "        files = list((dt / f'{band:02d}').glob('*'))\n",
    "        area = make_index.get_area(files, reader=reader)\n",
    "        sat_zen = get_satzen(area)\n",
    "        \n",
    "        ds = xr.Dataset()\n",
    "        ds['satzen'] = ['y','x'], sat_zen\n",
    "        out = SATZEN_CACHE / f'{sat}_satzen.nc'\n",
    "        print(out)\n",
    "        ds.to_netcdf(out, encoding=encoding)\n",
    "        break"
   ]
  },
  {
   "cell_type": "code",
   "execution_count": 2,
   "metadata": {},
   "outputs": [],
   "source": [
    "%load_ext autoreload\n",
    "%autoreload 2"
   ]
  },
  {
   "cell_type": "code",
   "execution_count": 3,
   "metadata": {},
   "outputs": [],
   "source": [
    "import make_geometry"
   ]
  },
  {
   "cell_type": "code",
   "execution_count": 4,
   "metadata": {},
   "outputs": [],
   "source": [
    "from pathlib import Path"
   ]
  },
  {
   "cell_type": "code",
   "execution_count": 7,
   "metadata": {},
   "outputs": [
    {
     "name": "stderr",
     "output_type": "stream",
     "text": [
      " 67%|██████▋   | 2/3 [00:37<00:18, 18.71s/it]/data/cphillips/miniconda3/envs/dev/lib/python3.8/site-packages/pyproj/crs/crs.py:543: UserWarning: You will likely lose important projection information when converting to a PROJ string from another format. See: https://proj.org/faq.html#what-is-the-best-format-for-describing-coordinate-reference-systems\n",
      "  proj_string = self.to_proj4()\n",
      "100%|██████████| 3/3 [00:57<00:00, 19.30s/it]\n"
     ]
    }
   ],
   "source": [
    "make_geometry.make_geometry(Path('l1b/20200930T0200/'))"
   ]
  },
  {
   "cell_type": "code",
   "execution_count": null,
   "metadata": {},
   "outputs": [],
   "source": []
  }
 ],
 "metadata": {
  "kernelspec": {
   "display_name": "Python 3",
   "language": "python",
   "name": "python3"
  },
  "language_info": {
   "codemirror_mode": {
    "name": "ipython",
    "version": 3
   },
   "file_extension": ".py",
   "mimetype": "text/x-python",
   "name": "python",
   "nbconvert_exporter": "python",
   "pygments_lexer": "ipython3",
   "version": "3.8.5"
  }
 },
 "nbformat": 4,
 "nbformat_minor": 4
}
