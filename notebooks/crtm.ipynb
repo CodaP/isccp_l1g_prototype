{
 "cells": [
  {
   "cell_type": "code",
   "execution_count": 2,
   "id": "58a3a350",
   "metadata": {},
   "outputs": [],
   "source": [
    "import sys\n",
    "\n",
    "sys.path.append('/ships19/cloud/scratch/cphillips/crtm/crtm-bundle/pycrtm/')\n",
    "\n",
    "import pycrtm\n",
    "\n",
    "from pyCRTM import pyCRTM, profilesCreate\n",
    "\n",
    "profiles = profilesCreate(4, 92) # will generate an empty object with 4 profiles each with 92 layers. \n",
    "\n",
    "sensor_id = 'amsua_aqua'\n",
    "\n",
    "crtmOb = pyCRTM()\n",
    "crtmOb.coefficientPath = '/ships19/cloud/scratch/cphillips/crtm/crtm-bundle/pycrtm/crtm_coef_pycrtm/'\n",
    "crtmOb.sensor_id = sensor_id\n",
    "# OMP_NUM_THREADS will override\n",
    "crtmOb.nThreads = 4\n",
    "crtmOb.profiles = profiles\n",
    "\n",
    "crtmOb.loadInst()"
   ]
  },
  {
   "cell_type": "code",
   "execution_count": 5,
   "id": "2d551185",
   "metadata": {},
   "outputs": [],
   "source": [
    "profiles.aerosols[:] = 0\n",
    "profiles.aerosolType[:] = 0\n",
    "profiles.clouds[:] = 0\n",
    "profiles.O3[:] = 0\n",
    "profiles.P[:]=1000\n",
    "profiles.Pi[:]=1000\n",
    "profiles.Q[:] = 0\n",
    "profiles.S2m[:] = 0\n",
    "profiles.Skin[:] = 0\n",
    "profiles.surfaceTemperatures[:] = 300\n",
    "profiles.SurfGeom[:] = 0\n",
    "profiles.SurfType[:] = 0\n",
    "profiles.T[:] = 240"
   ]
  },
  {
   "cell_type": "code",
   "execution_count": 38,
   "id": "eb702628",
   "metadata": {},
   "outputs": [],
   "source": []
  },
  {
   "cell_type": "code",
   "execution_count": null,
   "id": "bfe63c38",
   "metadata": {},
   "outputs": [],
   "source": [
    "#crtmOb.runDirect()\n",
    "crtmOb.runK()"
   ]
  },
  {
   "cell_type": "code",
   "execution_count": null,
   "id": "d7186db6",
   "metadata": {},
   "outputs": [],
   "source": [
    "# brightness temperature (nprofiles, nchan):\n",
    "brightnessTemperature = crtmOb.Bt \n",
    "\n",
    "#Transmission (to compute weighting functions) ( nprofiles, nchan, nlayers)\n",
    "Tau = crtmOb.TauLevels \n",
    "\n",
    "#Temperature, Water Vapo[u]r, and Ozone Jacobians ( npforfiles, nchan, nlayers)\n",
    "O3_Jacobian = crtmOb.O3K\n",
    "Water_Vapor_Jacobian = crtmOb.QK\n",
    "Temperature_Jacobian = crtm.TK\n",
    "\n",
    "#Emissivity (nprofiles, nchan)\n",
    "Emissivity = crtmOb.surfEmisRefl"
   ]
  }
 ],
 "metadata": {
  "kernelspec": {
   "display_name": "crtm",
   "language": "python",
   "name": "crtm"
  },
  "language_info": {
   "codemirror_mode": {
    "name": "ipython",
    "version": 3
   },
   "file_extension": ".py",
   "mimetype": "text/x-python",
   "name": "python",
   "nbconvert_exporter": "python",
   "pygments_lexer": "ipython3",
   "version": "3.10.0"
  }
 },
 "nbformat": 4,
 "nbformat_minor": 5
}
