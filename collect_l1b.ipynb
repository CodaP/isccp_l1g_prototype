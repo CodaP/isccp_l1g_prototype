{
 "cells": [
  {
   "cell_type": "code",
   "execution_count": 1,
   "metadata": {},
   "outputs": [
    {
     "name": "stdout",
     "output_type": "stream",
     "text": [
      "Populating the interactive namespace from numpy and matplotlib\n"
     ]
    }
   ],
   "source": [
    "%pylab inline"
   ]
  },
  {
   "cell_type": "code",
   "execution_count": 2,
   "metadata": {},
   "outputs": [],
   "source": [
    "from utils import *"
   ]
  },
  {
   "cell_type": "code",
   "execution_count": 3,
   "metadata": {},
   "outputs": [],
   "source": [
    "now = datetime.utcnow()\n",
    "round_down_6h = (now - timedelta(hours=now.hour % 6)).replace(minute=0, second=0, microsecond=0)"
   ]
  },
  {
   "cell_type": "code",
   "execution_count": 4,
   "metadata": {},
   "outputs": [],
   "source": [
    "start = round_down_6h\n",
    "end = start + timedelta(minutes=10)"
   ]
  },
  {
   "cell_type": "code",
   "execution_count": 5,
   "metadata": {},
   "outputs": [
    {
     "data": {
      "text/plain": [
       "datetime.datetime(2020, 9, 25, 18, 0)"
      ]
     },
     "execution_count": 5,
     "metadata": {},
     "output_type": "execute_result"
    }
   ],
   "source": [
    "start"
   ]
  },
  {
   "cell_type": "code",
   "execution_count": 72,
   "metadata": {},
   "outputs": [],
   "source": [
    "G16_DIR = G16_ROOT / start.strftime('%Y%m%d/L1b/G16/RadF')\n",
    "G17_DIR = G17_ROOT / start.strftime('%Y%m%d/L1b/G17/RadF')\n",
    "H8_DIR = H8_ROOT / start.strftime('%Y/%Y_%m_%d_%j/%H%M')\n",
    "for d in G16_DIR, G17_DIR, H8_DIR:\n",
    "    assert d.is_dir(), d"
   ]
  },
  {
   "cell_type": "code",
   "execution_count": 9,
   "metadata": {},
   "outputs": [],
   "source": [
    "L1B_DIR = Path('l1b')\n",
    "L1B_DIR.mkdir(exist_ok=True)"
   ]
  },
  {
   "cell_type": "code",
   "execution_count": 79,
   "metadata": {},
   "outputs": [],
   "source": [
    "def get_or_files(d):\n",
    "    files = pd.Series({parse_or(f.name):f for f in d.glob('*.nc')}).sort_index()\n",
    "    files.index.names=['start','end','band']\n",
    "    return files\n",
    "\n",
    "def get_dat_files(d):\n",
    "    files = {}\n",
    "    for f in d.rglob(\"*FLDK*.DAT\"):\n",
    "        files[parse_dat(f.name)] = f\n",
    "    files = pd.Series(files).sort_index()\n",
    "    files.index.names=['start','band','segment']\n",
    "    return files"
   ]
  },
  {
   "cell_type": "code",
   "execution_count": 86,
   "metadata": {},
   "outputs": [],
   "source": [
    "def get_fd_goes(files, start, end):\n",
    "    candidates = files.loc[:end, start:]\n",
    "    longest = candidates.groupby(['start','band']).apply(lambda x: x.sort_index().iloc[-1])\n",
    "    sizes = longest.groupby('start').size()\n",
    "    full = longest.loc[[sizes.index[sizes == 16][0]]]\n",
    "    return full"
   ]
  },
  {
   "cell_type": "code",
   "execution_count": 107,
   "metadata": {},
   "outputs": [],
   "source": [
    "def get_fd_him(files, start):\n",
    "    all_segments = [f'S{i:02}10' for i in range(1,11)]\n",
    "    files = files.loc[start]\n",
    "    def all_or_none(x):\n",
    "        segs = x.droplevel('band').reindex(all_segments)\n",
    "        if segs.isnull().any():\n",
    "            return []\n",
    "        else:\n",
    "            return segs\n",
    "    full_files = files.groupby(['band']).apply(all_or_none)\n",
    "    assert set(files.index.get_level_values('band').unique()) == set(range(1,17))\n",
    "    return full_files"
   ]
  },
  {
   "cell_type": "code",
   "execution_count": 109,
   "metadata": {},
   "outputs": [],
   "source": [
    "import shutil"
   ]
  },
  {
   "cell_type": "code",
   "execution_count": 110,
   "metadata": {},
   "outputs": [],
   "source": [
    "def save_goes_files(out_root, files):\n",
    "    with tqdm(list(files.iteritems())) as bar:\n",
    "        for (start, band), f in bar:\n",
    "            out_dir = out_root / start.strftime('%Y%m%dT%H%M') / f'{band:02d}'\n",
    "            out_dir.mkdir(exist_ok=True, parents=True)\n",
    "            out = out_dir / f.name\n",
    "            shutil.copy(f, out)"
   ]
  },
  {
   "cell_type": "code",
   "execution_count": 116,
   "metadata": {},
   "outputs": [],
   "source": [
    "def save_him_files(out_root, files, start):\n",
    "    with tqdm(list(files.iteritems())) as bar:\n",
    "        for (band, seg), f in bar:\n",
    "            out_dir = out_root / start.strftime('%Y%m%dT%H%M') / f'{band:02d}'\n",
    "            out_dir.mkdir(exist_ok=True, parents=True)\n",
    "            out = out_dir / f.name\n",
    "            shutil.copy(f, out)"
   ]
  },
  {
   "cell_type": "code",
   "execution_count": 105,
   "metadata": {},
   "outputs": [],
   "source": [
    "g16_files = get_or_files(G16_DIR)\n",
    "g17_files = get_or_files(G17_DIR)\n",
    "h8_files = get_dat_files(H8_DIR)"
   ]
  },
  {
   "cell_type": "code",
   "execution_count": 118,
   "metadata": {},
   "outputs": [],
   "source": [
    "g16_fd = get_fd_goes(g16_files, start, end)\n",
    "g17_fd = get_fd_goes(g17_files, start, end)\n",
    "h8_fd = get_fd_him(h8_files, start)"
   ]
  },
  {
   "cell_type": "code",
   "execution_count": 114,
   "metadata": {},
   "outputs": [
    {
     "name": "stderr",
     "output_type": "stream",
     "text": [
      "100%|██████████| 16/16 [00:09<00:00,  1.64it/s]\n"
     ]
    }
   ],
   "source": [
    "save_goes_files(L1B_DIR / 'g16', g16_fd)"
   ]
  },
  {
   "cell_type": "code",
   "execution_count": 115,
   "metadata": {},
   "outputs": [
    {
     "name": "stderr",
     "output_type": "stream",
     "text": [
      "100%|██████████| 16/16 [00:09<00:00,  1.74it/s]\n"
     ]
    }
   ],
   "source": [
    "save_goes_files(L1B_DIR / 'g17', g17_fd)"
   ]
  },
  {
   "cell_type": "code",
   "execution_count": 121,
   "metadata": {},
   "outputs": [
    {
     "name": "stderr",
     "output_type": "stream",
     "text": [
      "100%|██████████| 160/160 [00:34<00:00,  4.60it/s]\n"
     ]
    }
   ],
   "source": [
    "save_him_files(L1B_DIR / 'h8', h8_fd, start)"
   ]
  },
  {
   "cell_type": "code",
   "execution_count": null,
   "metadata": {},
   "outputs": [],
   "source": []
  }
 ],
 "metadata": {
  "kernelspec": {
   "display_name": "Python 3",
   "language": "python",
   "name": "python3"
  },
  "language_info": {
   "codemirror_mode": {
    "name": "ipython",
    "version": 3
   },
   "file_extension": ".py",
   "mimetype": "text/x-python",
   "name": "python",
   "nbconvert_exporter": "python",
   "pygments_lexer": "ipython3",
   "version": "3.8.5"
  }
 },
 "nbformat": 4,
 "nbformat_minor": 4
}
