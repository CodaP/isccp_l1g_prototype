{
 "cells": [
  {
   "cell_type": "code",
   "execution_count": 1,
   "id": "77bc0de0",
   "metadata": {},
   "outputs": [],
   "source": [
    "#%pylab inline"
   ]
  },
  {
   "cell_type": "code",
   "execution_count": 2,
   "id": "08236b25",
   "metadata": {},
   "outputs": [],
   "source": [
    "import xarray as xr\n",
    "import numpy as np\n",
    "import pandas as pd"
   ]
  },
  {
   "cell_type": "code",
   "execution_count": 3,
   "id": "3b416ffa",
   "metadata": {},
   "outputs": [],
   "source": [
    "from pathlib import Path"
   ]
  },
  {
   "cell_type": "code",
   "execution_count": 4,
   "id": "586608f5",
   "metadata": {},
   "outputs": [],
   "source": [
    "import satpy"
   ]
  },
  {
   "cell_type": "code",
   "execution_count": 5,
   "id": "adefdbc3",
   "metadata": {},
   "outputs": [],
   "source": [
    "import sys\n",
    "sys.path.append('../')\n",
    "sys.path.append('/ships19/cloud/scratch/cphillips/himawari')"
   ]
  },
  {
   "cell_type": "code",
   "execution_count": 6,
   "id": "ce993ee2",
   "metadata": {},
   "outputs": [],
   "source": [
    "import timing"
   ]
  },
  {
   "cell_type": "code",
   "execution_count": 7,
   "id": "98dbece4",
   "metadata": {},
   "outputs": [],
   "source": [
    "files = sorted(Path('../l1b/2020/202010/20201001/20201001T0000/h8/temp_11_00um/').glob('HS_H08_20201001_0000_B14_FLDK_R20_*.DAT'))\n",
    "scene = satpy.Scene(files, reader='ahi_hsd')"
   ]
  },
  {
   "cell_type": "code",
   "execution_count": 8,
   "id": "fdb58d53",
   "metadata": {},
   "outputs": [
    {
     "name": "stderr",
     "output_type": "stream",
     "text": [
      "/data/cphillips/miniconda3/envs/dev/lib/python3.8/site-packages/pyproj/crs/crs.py:543: UserWarning: You will likely lose important projection information when converting to a PROJ string from another format. See: https://proj.org/faq.html#what-is-the-best-format-for-describing-coordinate-reference-systems\n",
      "  proj_string = self.to_proj4()\n",
      "/data/cphillips/miniconda3/envs/dev/lib/python3.8/site-packages/pyproj/crs/crs.py:543: UserWarning: You will likely lose important projection information when converting to a PROJ string from another format. See: https://proj.org/faq.html#what-is-the-best-format-for-describing-coordinate-reference-systems\n",
      "  proj_string = self.to_proj4()\n",
      "/data/cphillips/miniconda3/envs/dev/lib/python3.8/site-packages/pyproj/crs/crs.py:543: UserWarning: You will likely lose important projection information when converting to a PROJ string from another format. See: https://proj.org/faq.html#what-is-the-best-format-for-describing-coordinate-reference-systems\n",
      "  proj_string = self.to_proj4()\n",
      "/data/cphillips/miniconda3/envs/dev/lib/python3.8/site-packages/pyproj/crs/crs.py:543: UserWarning: You will likely lose important projection information when converting to a PROJ string from another format. See: https://proj.org/faq.html#what-is-the-best-format-for-describing-coordinate-reference-systems\n",
      "  proj_string = self.to_proj4()\n",
      "/data/cphillips/miniconda3/envs/dev/lib/python3.8/site-packages/pyproj/crs/crs.py:543: UserWarning: You will likely lose important projection information when converting to a PROJ string from another format. See: https://proj.org/faq.html#what-is-the-best-format-for-describing-coordinate-reference-systems\n",
      "  proj_string = self.to_proj4()\n",
      "/data/cphillips/miniconda3/envs/dev/lib/python3.8/site-packages/pyproj/crs/crs.py:543: UserWarning: You will likely lose important projection information when converting to a PROJ string from another format. See: https://proj.org/faq.html#what-is-the-best-format-for-describing-coordinate-reference-systems\n",
      "  proj_string = self.to_proj4()\n",
      "/data/cphillips/miniconda3/envs/dev/lib/python3.8/site-packages/pyproj/crs/crs.py:543: UserWarning: You will likely lose important projection information when converting to a PROJ string from another format. See: https://proj.org/faq.html#what-is-the-best-format-for-describing-coordinate-reference-systems\n",
      "  proj_string = self.to_proj4()\n",
      "/data/cphillips/miniconda3/envs/dev/lib/python3.8/site-packages/pyproj/crs/crs.py:543: UserWarning: You will likely lose important projection information when converting to a PROJ string from another format. See: https://proj.org/faq.html#what-is-the-best-format-for-describing-coordinate-reference-systems\n",
      "  proj_string = self.to_proj4()\n",
      "/data/cphillips/miniconda3/envs/dev/lib/python3.8/site-packages/pyproj/crs/crs.py:543: UserWarning: You will likely lose important projection information when converting to a PROJ string from another format. See: https://proj.org/faq.html#what-is-the-best-format-for-describing-coordinate-reference-systems\n",
      "  proj_string = self.to_proj4()\n"
     ]
    }
   ],
   "source": [
    "scene.load(['B14'])"
   ]
  },
  {
   "cell_type": "code",
   "execution_count": 9,
   "id": "8366ce0a",
   "metadata": {},
   "outputs": [],
   "source": [
    "import himawari.HimawariScene"
   ]
  },
  {
   "cell_type": "code",
   "execution_count": 10,
   "id": "3b71b99d",
   "metadata": {},
   "outputs": [],
   "source": [
    "scene = himawari.HimawariScene.HimawariScene('../l1b/2020/202010/20201001/20201001T0000/h8/temp_11_00um/HS_H08_20201001_0000_B14_FLDK_R20_S????.DAT')"
   ]
  },
  {
   "cell_type": "code",
   "execution_count": 11,
   "id": "024a61b5",
   "metadata": {},
   "outputs": [],
   "source": [
    "#import scipy.interpolate"
   ]
  },
  {
   "cell_type": "code",
   "execution_count": 12,
   "id": "69a25cbd",
   "metadata": {},
   "outputs": [],
   "source": [
    "# def estimate_pixel_time_offsets(line_midtimes):\n",
    "#     fd_shape = tuple([line_midtimes.size]*2)\n",
    "#     line_midtimes = pd.Series(line_midtimes).value_counts().sort_index()\n",
    "\n",
    "#     interp = scipy.interpolate.interp1d(np.arange(len(line_midtimes)), line_midtimes.index, kind='slinear', fill_value='extrapolate')\n",
    "#     line_times = interp(np.arange(len(line_midtimes)+1))\n",
    "\n",
    "#     pixel_times = np.full(fd_shape, np.nan, dtype=np.float32)\n",
    "\n",
    "#     splits = np.cumsum(line_midtimes.values)[:-1]\n",
    "#     for chunk,start_time,end_time in zip(np.split(pixel_times, splits, axis=0), line_times[:-1], line_times[1:]):\n",
    "#         chunk[:] = np.linspace(start_time, end_time, chunk.shape[1])[np.newaxis]\n",
    "#     return pixel_times"
   ]
  },
  {
   "cell_type": "code",
   "execution_count": 13,
   "id": "4fa8e120",
   "metadata": {},
   "outputs": [],
   "source": [
    "pixel_time_offsets = timing.himawari_estimate_pixel_time_offsets(scene.line_times[1])"
   ]
  },
  {
   "cell_type": "code",
   "execution_count": 14,
   "id": "f899119e",
   "metadata": {},
   "outputs": [
    {
     "data": {
      "text/plain": [
       "array([[0.0000000e+00, 3.1048416e-03, 6.2096831e-03, ..., 1.7067314e+01,\n",
       "        1.7070419e+01, 1.7073523e+01],\n",
       "       [0.0000000e+00, 3.1048416e-03, 6.2096831e-03, ..., 1.7067314e+01,\n",
       "        1.7070419e+01, 1.7073523e+01],\n",
       "       [0.0000000e+00, 3.1048416e-03, 6.2096831e-03, ..., 1.7067314e+01,\n",
       "        1.7070419e+01, 1.7073523e+01],\n",
       "       ...,\n",
       "       [5.5939600e+02, 5.5939771e+02, 5.5939948e+02, ..., 5.6894794e+02,\n",
       "        5.6894971e+02, 5.6895142e+02],\n",
       "       [5.5939600e+02, 5.5939771e+02, 5.5939948e+02, ..., 5.6894794e+02,\n",
       "        5.6894971e+02, 5.6895142e+02],\n",
       "       [5.5939600e+02, 5.5939771e+02, 5.5939948e+02, ..., 5.6894794e+02,\n",
       "        5.6894971e+02, 5.6895142e+02]], dtype=float32)"
      ]
     },
     "execution_count": 14,
     "metadata": {},
     "output_type": "execute_result"
    }
   ],
   "source": [
    "pixel_time_offsets"
   ]
  },
  {
   "cell_type": "code",
   "execution_count": 15,
   "id": "7e2e2621",
   "metadata": {},
   "outputs": [],
   "source": [
    "start_dt = pd.to_datetime(scene.line_times[0], unit='s')\n",
    "#end_dt = pd.to_datetime(scene.metadata.end_time.unix_time, unit='s')"
   ]
  },
  {
   "cell_type": "code",
   "execution_count": null,
   "id": "d250d296",
   "metadata": {},
   "outputs": [],
   "source": []
  },
  {
   "cell_type": "code",
   "execution_count": null,
   "id": "53567d0c",
   "metadata": {},
   "outputs": [],
   "source": []
  }
 ],
 "metadata": {
  "kernelspec": {
   "display_name": "Python 3",
   "language": "python",
   "name": "python3"
  },
  "language_info": {
   "codemirror_mode": {
    "name": "ipython",
    "version": 3
   },
   "file_extension": ".py",
   "mimetype": "text/x-python",
   "name": "python",
   "nbconvert_exporter": "python",
   "pygments_lexer": "ipython3",
   "version": "3.8.5"
  }
 },
 "nbformat": 4,
 "nbformat_minor": 5
}
