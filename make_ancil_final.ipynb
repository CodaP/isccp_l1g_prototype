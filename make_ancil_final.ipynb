{
 "cells": [
  {
   "cell_type": "code",
   "execution_count": 1,
   "metadata": {},
   "outputs": [],
   "source": [
    "import xarray as xr"
   ]
  },
  {
   "cell_type": "code",
   "execution_count": 8,
   "metadata": {},
   "outputs": [],
   "source": [
    "import pandas as pd"
   ]
  },
  {
   "cell_type": "code",
   "execution_count": 5,
   "metadata": {},
   "outputs": [],
   "source": [
    "%load_ext autoreload\n",
    "%autoreload 1"
   ]
  },
  {
   "cell_type": "code",
   "execution_count": 6,
   "metadata": {},
   "outputs": [],
   "source": [
    "%aimport make_netcdf"
   ]
  },
  {
   "cell_type": "code",
   "execution_count": 2,
   "metadata": {},
   "outputs": [],
   "source": [
    "from pathlib import Path"
   ]
  },
  {
   "cell_type": "code",
   "execution_count": 3,
   "metadata": {},
   "outputs": [],
   "source": [
    "WMO_ID = Path('composite_cache/wmo_id.nc')\n",
    "SATZEN = Path('composite_cache/satzen.nc')"
   ]
  },
  {
   "cell_type": "code",
   "execution_count": 7,
   "metadata": {},
   "outputs": [],
   "source": [
    "OUT = Path('final/')"
   ]
  },
  {
   "cell_type": "code",
   "execution_count": 14,
   "metadata": {},
   "outputs": [],
   "source": [
    "import utils"
   ]
  },
  {
   "cell_type": "code",
   "execution_count": 15,
   "metadata": {},
   "outputs": [],
   "source": [
    "grid = utils.get_grid(.05)\n",
    "grid_shape=grid.shape\n",
    "\n",
    "lon, lat = grid.get_lonlats()\n",
    "lon = lon[0]\n",
    "lat = lat[:,0]"
   ]
  },
  {
   "cell_type": "code",
   "execution_count": 32,
   "metadata": {},
   "outputs": [
    {
     "name": "stdout",
     "output_type": "stream",
     "text": [
      "2020-10-01 00:00:00\n",
      "2020-10-01 00:30:00\n",
      "2020-10-01 01:00:00\n",
      "2020-10-01 01:30:00\n",
      "2020-10-01 02:00:00\n",
      "2020-10-01 02:30:00\n",
      "2020-10-01 03:00:00\n",
      "2020-10-01 03:30:00\n",
      "2020-10-01 04:00:00\n",
      "2020-10-01 04:30:00\n",
      "2020-10-01 05:00:00\n",
      "2020-10-01 05:30:00\n",
      "2020-10-01 06:00:00\n",
      "2020-10-01 06:30:00\n",
      "2020-10-01 07:00:00\n",
      "2020-10-01 07:30:00\n",
      "2020-10-01 08:00:00\n",
      "2020-10-01 08:30:00\n",
      "2020-10-01 09:00:00\n",
      "2020-10-01 09:30:00\n",
      "2020-10-01 10:00:00\n",
      "2020-10-01 10:30:00\n",
      "2020-10-01 11:00:00\n",
      "2020-10-01 11:30:00\n",
      "2020-10-01 12:00:00\n",
      "2020-10-01 12:30:00\n",
      "2020-10-01 13:00:00\n",
      "2020-10-01 13:30:00\n",
      "2020-10-01 14:00:00\n",
      "2020-10-01 14:30:00\n",
      "2020-10-01 15:00:00\n",
      "2020-10-01 15:30:00\n",
      "2020-10-01 16:00:00\n",
      "2020-10-01 16:30:00\n",
      "2020-10-01 17:00:00\n",
      "2020-10-01 17:30:00\n",
      "2020-10-01 18:00:00\n",
      "2020-10-01 18:30:00\n",
      "2020-10-01 19:00:00\n",
      "2020-10-01 19:30:00\n",
      "2020-10-01 20:00:00\n",
      "2020-10-01 20:30:00\n",
      "2020-10-01 21:00:00\n",
      "2020-10-01 21:30:00\n",
      "2020-10-01 22:00:00\n",
      "2020-10-01 22:30:00\n",
      "2020-10-01 23:00:00\n",
      "2020-10-01 23:30:00\n",
      "2020-10-02 00:00:00\n"
     ]
    }
   ],
   "source": [
    "for dt in pd.date_range('2020-10-01','2020-10-02', freq='30min'):\n",
    "    print(dt)\n",
    "    make_netcdf.rewrite_wmo_id(WMO_ID, OUT, dt, lat, lon)"
   ]
  },
  {
   "cell_type": "code",
   "execution_count": 33,
   "metadata": {},
   "outputs": [
    {
     "name": "stdout",
     "output_type": "stream",
     "text": [
      "2020-10-01 00:00:00\n",
      "2020-10-01 00:30:00\n",
      "2020-10-01 01:00:00\n",
      "2020-10-01 01:30:00\n",
      "2020-10-01 02:00:00\n",
      "2020-10-01 02:30:00\n",
      "2020-10-01 03:00:00\n",
      "2020-10-01 03:30:00\n",
      "2020-10-01 04:00:00\n",
      "2020-10-01 04:30:00\n",
      "2020-10-01 05:00:00\n",
      "2020-10-01 05:30:00\n",
      "2020-10-01 06:00:00\n",
      "2020-10-01 06:30:00\n",
      "2020-10-01 07:00:00\n",
      "2020-10-01 07:30:00\n",
      "2020-10-01 08:00:00\n",
      "2020-10-01 08:30:00\n",
      "2020-10-01 09:00:00\n",
      "2020-10-01 09:30:00\n",
      "2020-10-01 10:00:00\n",
      "2020-10-01 10:30:00\n",
      "2020-10-01 11:00:00\n",
      "2020-10-01 11:30:00\n",
      "2020-10-01 12:00:00\n",
      "2020-10-01 12:30:00\n",
      "2020-10-01 13:00:00\n",
      "2020-10-01 13:30:00\n",
      "2020-10-01 14:00:00\n",
      "2020-10-01 14:30:00\n",
      "2020-10-01 15:00:00\n",
      "2020-10-01 15:30:00\n",
      "2020-10-01 16:00:00\n",
      "2020-10-01 16:30:00\n",
      "2020-10-01 17:00:00\n",
      "2020-10-01 17:30:00\n",
      "2020-10-01 18:00:00\n",
      "2020-10-01 18:30:00\n",
      "2020-10-01 19:00:00\n",
      "2020-10-01 19:30:00\n",
      "2020-10-01 20:00:00\n",
      "2020-10-01 20:30:00\n",
      "2020-10-01 21:00:00\n",
      "2020-10-01 21:30:00\n",
      "2020-10-01 22:00:00\n",
      "2020-10-01 22:30:00\n",
      "2020-10-01 23:00:00\n",
      "2020-10-01 23:30:00\n",
      "2020-10-02 00:00:00\n"
     ]
    }
   ],
   "source": [
    "for dt in pd.date_range('2020-10-01','2020-10-02', freq='30min'):\n",
    "    print(dt)\n",
    "    make_netcdf.rewrite_satzen(SATZEN, OUT, dt, lat, lon)"
   ]
  },
  {
   "cell_type": "code",
   "execution_count": null,
   "metadata": {},
   "outputs": [],
   "source": []
  }
 ],
 "metadata": {
  "kernelspec": {
   "display_name": "Python 3",
   "language": "python",
   "name": "python3"
  },
  "language_info": {
   "codemirror_mode": {
    "name": "ipython",
    "version": 3
   },
   "file_extension": ".py",
   "mimetype": "text/x-python",
   "name": "python",
   "nbconvert_exporter": "python",
   "pygments_lexer": "ipython3",
   "version": "3.8.5"
  }
 },
 "nbformat": 4,
 "nbformat_minor": 4
}
