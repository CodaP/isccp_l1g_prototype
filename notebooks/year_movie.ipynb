{
 "cells": [
  {
   "cell_type": "code",
   "execution_count": 1,
   "metadata": {},
   "outputs": [
    {
     "name": "stdout",
     "output_type": "stream",
     "text": [
      "Populating the interactive namespace from numpy and matplotlib\n"
     ]
    }
   ],
   "source": [
    "%pylab inline"
   ]
  },
  {
   "cell_type": "code",
   "execution_count": 2,
   "metadata": {},
   "outputs": [],
   "source": [
    "rcParams['figure.dpi'] = 100\n",
    "rcParams['figure.facecolor'] = (1,1,1,1)"
   ]
  },
  {
   "cell_type": "code",
   "execution_count": 3,
   "metadata": {},
   "outputs": [],
   "source": [
    "import xarray as xr\n",
    "import numpy as np\n",
    "import pandas as pd\n",
    "\n",
    "from tqdm import tqdm\n",
    "\n",
    "import cartopy.crs as ccrs\n",
    "\n",
    "from pathlib import Path"
   ]
  },
  {
   "cell_type": "code",
   "execution_count": 4,
   "metadata": {},
   "outputs": [],
   "source": [
    "import io"
   ]
  },
  {
   "cell_type": "code",
   "execution_count": 5,
   "metadata": {},
   "outputs": [],
   "source": [
    "import warnings"
   ]
  },
  {
   "cell_type": "code",
   "execution_count": 6,
   "metadata": {},
   "outputs": [],
   "source": [
    "import dask\n",
    "from dask.distributed import Client\n",
    "import dask.bag"
   ]
  },
  {
   "cell_type": "code",
   "execution_count": 7,
   "metadata": {},
   "outputs": [],
   "source": [
    "def get_dask_client():\n",
    "    with warnings.catch_warnings():\n",
    "        warnings.simplefilter('ignore')\n",
    "        c = Client('localhost:8786')\n",
    "    return c"
   ]
  },
  {
   "cell_type": "code",
   "execution_count": 137,
   "metadata": {},
   "outputs": [
    {
     "data": {
      "text/html": [
       "<table style=\"border: 2px solid white;\">\n",
       "<tr>\n",
       "<td style=\"vertical-align: top; border: 0px solid white\">\n",
       "<h3 style=\"text-align: left;\">Client</h3>\n",
       "<ul style=\"text-align: left; list-style: none; margin: 0; padding: 0;\">\n",
       "  <li><b>Scheduler: </b>tcp://localhost:8786</li>\n",
       "  <li><b>Dashboard: </b><a href='http://localhost:8787/status' target='_blank'>http://localhost:8787/status</a></li>\n",
       "</ul>\n",
       "</td>\n",
       "<td style=\"vertical-align: top; border: 0px solid white\">\n",
       "<h3 style=\"text-align: left;\">Cluster</h3>\n",
       "<ul style=\"text-align: left; list-style:none; margin: 0; padding: 0;\">\n",
       "  <li><b>Workers: </b>48</li>\n",
       "  <li><b>Cores: </b>48</li>\n",
       "  <li><b>Memory: </b>288.00 GB</li>\n",
       "</ul>\n",
       "</td>\n",
       "</tr>\n",
       "</table>"
      ],
      "text/plain": [
       "<Client: 'tcp://172.16.18.1:38039' processes=48 threads=48, memory=288.00 GB>"
      ]
     },
     "execution_count": 137,
     "metadata": {},
     "output_type": "execute_result"
    }
   ],
   "source": [
    "client = get_dask_client()\n",
    "client"
   ]
  },
  {
   "cell_type": "code",
   "execution_count": 13,
   "metadata": {},
   "outputs": [],
   "source": [
    "from datetime import datetime, timezone"
   ]
  },
  {
   "cell_type": "code",
   "execution_count": 14,
   "metadata": {},
   "outputs": [],
   "source": [
    "import PIL.Image"
   ]
  },
  {
   "cell_type": "code",
   "execution_count": 15,
   "metadata": {},
   "outputs": [],
   "source": [
    "import sys \n",
    "sys.path.append('/ships19/cloud/scratch/cphillips/utility')\n",
    "from make_gif import make_video, render_fast, play_video\n",
    "sys.path.append('/data/mstengel/ISCCP/code_save/')\n",
    "import rgb"
   ]
  },
  {
   "cell_type": "code",
   "execution_count": 135,
   "metadata": {},
   "outputs": [],
   "source": [
    "# Upload\n",
    "# Upload\n",
    "# Upload\n",
    "client.upload_file(rgb.__file__)"
   ]
  },
  {
   "cell_type": "code",
   "execution_count": 63,
   "metadata": {},
   "outputs": [],
   "source": [
    "OUT_DIR = Path('../final/2020/').resolve().absolute()"
   ]
  },
  {
   "cell_type": "code",
   "execution_count": 64,
   "metadata": {},
   "outputs": [],
   "source": [
    "VID = Path('videos')\n",
    "VID.mkdir(exist_ok=True)"
   ]
  },
  {
   "cell_type": "code",
   "execution_count": 125,
   "metadata": {},
   "outputs": [
    {
     "data": {
      "text/plain": [
       "1440"
      ]
     },
     "execution_count": 125,
     "metadata": {},
     "output_type": "execute_result"
    }
   ],
   "source": [
    "dirs = sorted(OUT_DIR.glob('202004/*/*'))\n",
    "len(dirs)"
   ]
  },
  {
   "cell_type": "code",
   "execution_count": 84,
   "metadata": {},
   "outputs": [],
   "source": [
    "def get_im(args, fillna=False):\n",
    "    refl_00_65um_f, refl_00_86um_f, refl_01_60um_f, temp_11_00um_f, solzen_f = args\n",
    "    \n",
    "    datasets = {}\n",
    "    \n",
    "    datasets['refl_00_65um'] = xr.open_dataset(refl_00_65um_f)\n",
    "    datasets['refl_00_86um'] = xr.open_dataset(refl_00_86um_f)\n",
    "    datasets['refl_01_60um'] = xr.open_dataset(refl_01_60um_f)\n",
    "    datasets['temp_11_00um'] = xr.open_dataset(temp_11_00um_f)\n",
    "    solzen = xr.open_dataset(solzen_f)\n",
    "    \n",
    "    if not fillna:\n",
    "        for k, ds in sorted(datasets.items()):\n",
    "            datasets[k] = ds[k].isel(layer=0, time=0)\n",
    "        mask = (datasets['refl_00_65um'].notnull()\n",
    "                & datasets['refl_00_86um'].notnull()\n",
    "                & datasets['refl_01_60um'].notnull()\n",
    "                & datasets['temp_11_00um'].notnull())\n",
    "        for k, ds in sorted(datasets.items()):\n",
    "            datasets[k] = ds.where(mask)\n",
    "    else:\n",
    "        for k, ds in sorted(datasets.items()):\n",
    "            datasets[k] = ds[k].isel(layer=0, time=0).fillna(ds[k].isel(layer=1,time=0).fillna(ds[k].isel(layer=2,time=0)))\n",
    "\n",
    "    im = rgb.calc_rgb_with016(datasets['refl_00_65um'].values.squeeze(),\n",
    "                     datasets['refl_00_86um'].values.squeeze(),\n",
    "                     datasets['refl_01_60um'].values.squeeze(),\n",
    "                     datasets['temp_11_00um'].values.squeeze(),\n",
    "                     solzen['solar_zenith_angle'].values.squeeze()).astype(np.uint8)\n",
    "    ds.close()\n",
    "    im = PIL.Image.fromarray(im[1440:2160,800:800+1280,:])\n",
    "    #return im\n",
    "    fp = io.BytesIO()\n",
    "    #im = im.resize((2048,1024))\n",
    "    im.save(fp, format='jpeg')\n",
    "    fp.seek(0)\n",
    "    return fp.read()"
   ]
  },
  {
   "cell_type": "code",
   "execution_count": 85,
   "metadata": {},
   "outputs": [],
   "source": [
    "def get_im_layer0(args):\n",
    "    return get_im(args)\n",
    "def get_im_fillna(args):\n",
    "    return get_im(args, fillna=True)"
   ]
  },
  {
   "cell_type": "code",
   "execution_count": 86,
   "metadata": {},
   "outputs": [],
   "source": [
    "from collections import defaultdict"
   ]
  },
  {
   "cell_type": "code",
   "execution_count": 126,
   "metadata": {},
   "outputs": [
    {
     "name": "stdout",
     "output_type": "stream",
     "text": [
      "Missing files 2020-04-23 17:30:00+00:00\n",
      "Missing files 2020-04-24 05:30:00+00:00\n"
     ]
    }
   ],
   "source": [
    "days = defaultdict(list)\n",
    "for d in dirs:\n",
    "    date = datetime.strptime(d.name, '%Y%m%dT%H%M').replace(tzinfo=timezone.utc)\n",
    "    try:\n",
    "        refl_00_65um = next(d.glob('*_refl_00_65um_2*'))\n",
    "        refl_00_86um = next(d.glob('*_refl_00_86um_2*'))\n",
    "        refl_01_60um = next(d.glob('*_refl_01_60um_2*'))\n",
    "        temp_11_00um = next(d.glob('*_temp_11_00um_2*'))\n",
    "        solar_zenith_angle = next(d.glob('*_solar_zenith_angle_2*'))\n",
    "        days[date.date()].append((refl_00_65um, refl_00_86um, refl_01_60um, temp_11_00um,solar_zenith_angle))\n",
    "    except StopIteration:\n",
    "        print(f'Missing files {date}')"
   ]
  },
  {
   "cell_type": "code",
   "execution_count": 136,
   "metadata": {},
   "outputs": [
    {
     "name": "stdout",
     "output_type": "stream",
     "text": [
      "2020-04-01\n",
      "2020-04-02\n",
      "2020-04-03\n",
      "2020-04-04\n",
      "2020-04-05\n",
      "2020-04-06\n",
      "2020-04-07\n",
      "2020-04-08\n",
      "2020-04-09\n",
      "2020-04-10\n",
      "2020-04-11\n",
      "2020-04-12\n",
      "2020-04-13\n",
      "2020-04-14\n",
      "2020-04-15\n",
      "2020-04-16\n",
      "2020-04-17\n",
      "Rendering frames\n",
      "Done\n",
      "2020-04-18\n",
      "Rendering frames\n",
      "Done\n",
      "2020-04-19\n",
      "Rendering frames\n",
      "Done\n",
      "2020-04-20\n",
      "Rendering frames\n",
      "Done\n",
      "2020-04-21\n",
      "Rendering frames\n",
      "Done\n",
      "2020-04-22\n",
      "Rendering frames\n",
      "Done\n",
      "2020-04-23\n",
      "Rendering frames\n",
      "Done\n",
      "2020-04-24\n",
      "Rendering frames\n",
      "Done\n",
      "2020-04-25\n",
      "Rendering frames\n",
      "Done\n",
      "2020-04-26\n",
      "Rendering frames\n",
      "Done\n",
      "2020-04-27\n",
      "Rendering frames\n",
      "Done\n",
      "2020-04-28\n",
      "Rendering frames\n",
      "Done\n",
      "2020-04-29\n",
      "Rendering frames\n",
      "Done\n",
      "2020-04-30\n",
      "Rendering frames\n",
      "Done\n",
      "CPU times: user 15.9 s, sys: 2.1 s, total: 18 s\n",
      "Wall time: 6min 36s\n"
     ]
    }
   ],
   "source": [
    "%%time\n",
    "for day, day_tasks in sorted(days.items()):\n",
    "    print(day)\n",
    "    tasks_bag = dask.bag.from_sequence(list(day_tasks)[:48], partition_size=1)\n",
    "    video = VID / day.strftime('true_color_l1g_layer0_%Y%m%d.mp4')\n",
    "    if not video.exists():\n",
    "        try:\n",
    "            with make_video(video, framerate=8, bitrate=\"80000k\") as vid:\n",
    "                print('Rendering frames')\n",
    "                frames = tasks_bag.map(get_im_fillna).compute()\n",
    "                print('Done')\n",
    "                for frame in frames:\n",
    "                    vid.write(frame)\n",
    "        except OSError:\n",
    "            print('Error', day)"
   ]
  },
  {
   "cell_type": "code",
   "execution_count": 71,
   "metadata": {},
   "outputs": [],
   "source": [
    "Path('/ships19/cloud/scratch/cphillips/isccp_l1g/final/2020/202001/20200118/20200118T2130/ISCCP-NG_L1g_demo_A1_v1_res_0_10deg__temp_11_00um_20200118T2130.nc').unlink()"
   ]
  },
  {
   "cell_type": "code",
   "execution_count": 138,
   "metadata": {},
   "outputs": [
    {
     "data": {
      "text/plain": [
       "5.648029"
      ]
     },
     "execution_count": 138,
     "metadata": {},
     "output_type": "execute_result"
    }
   ],
   "source": [
    "video.stat().st_size/1e6"
   ]
  },
  {
   "cell_type": "code",
   "execution_count": 139,
   "metadata": {},
   "outputs": [
    {
     "data": {
      "text/html": [
       "<video autoplay loop controls><source src=\"videos/true_color_l1g_layer0_20200430.mp4\"/></video>"
      ],
      "text/plain": [
       "<IPython.core.display.HTML object>"
      ]
     },
     "execution_count": 139,
     "metadata": {},
     "output_type": "execute_result"
    }
   ],
   "source": [
    "play_video(video)"
   ]
  },
  {
   "cell_type": "code",
   "execution_count": 46,
   "metadata": {},
   "outputs": [
    {
     "data": {
      "text/plain": [
       "PosixPath('videos/true_color_l1g_layer0_20200101.mp4')"
      ]
     },
     "execution_count": 46,
     "metadata": {},
     "output_type": "execute_result"
    }
   ],
   "source": [
    "video"
   ]
  },
  {
   "cell_type": "code",
   "execution_count": null,
   "metadata": {},
   "outputs": [],
   "source": []
  }
 ],
 "metadata": {
  "kernelspec": {
   "display_name": "Python 3",
   "language": "python",
   "name": "python3"
  },
  "language_info": {
   "codemirror_mode": {
    "name": "ipython",
    "version": 3
   },
   "file_extension": ".py",
   "mimetype": "text/x-python",
   "name": "python",
   "nbconvert_exporter": "python",
   "pygments_lexer": "ipython3",
   "version": "3.8.5"
  }
 },
 "nbformat": 4,
 "nbformat_minor": 4
}
