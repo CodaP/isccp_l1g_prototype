{
 "cells": [
  {
   "cell_type": "code",
   "execution_count": 80,
   "id": "b2f24072",
   "metadata": {},
   "outputs": [
    {
     "name": "stdout",
     "output_type": "stream",
     "text": [
      "Populating the interactive namespace from numpy and matplotlib\n"
     ]
    },
    {
     "name": "stderr",
     "output_type": "stream",
     "text": [
      "/data/cphillips/miniconda3/envs/dev/lib/python3.8/site-packages/IPython/core/magics/pylab.py:159: UserWarning: pylab import has clobbered these variables: ['bar', 'datetime', 'fill']\n",
      "`%matplotlib` prevents importing * from pylab and numpy\n",
      "  warn(\"pylab import has clobbered these variables: %s\"  % clobbered +\n"
     ]
    }
   ],
   "source": [
    "%pylab inline"
   ]
  },
  {
   "cell_type": "code",
   "execution_count": 5,
   "id": "45bc61a9",
   "metadata": {},
   "outputs": [],
   "source": [
    "import os"
   ]
  },
  {
   "cell_type": "code",
   "execution_count": 6,
   "id": "6e59bc47",
   "metadata": {},
   "outputs": [],
   "source": [
    "import sys\n",
    "sys.path.append('../')\n",
    "import timing\n",
    "from pathlib import Path"
   ]
  },
  {
   "cell_type": "code",
   "execution_count": 7,
   "id": "bd2f9a90",
   "metadata": {},
   "outputs": [],
   "source": [
    "import xarray as xr\n",
    "import numpy as np\n",
    "import pandas as pd"
   ]
  },
  {
   "cell_type": "code",
   "execution_count": 72,
   "id": "ddca1647",
   "metadata": {},
   "outputs": [],
   "source": [
    "import netCDF4"
   ]
  },
  {
   "cell_type": "code",
   "execution_count": 8,
   "id": "d7214f11",
   "metadata": {},
   "outputs": [],
   "source": [
    "from tqdm import tqdm"
   ]
  },
  {
   "cell_type": "code",
   "execution_count": 9,
   "id": "b9ddb1ce",
   "metadata": {},
   "outputs": [],
   "source": [
    "from datetime import datetime, timedelta"
   ]
  },
  {
   "cell_type": "code",
   "execution_count": 10,
   "id": "a0d4855f",
   "metadata": {},
   "outputs": [],
   "source": [
    "from importlib import reload"
   ]
  },
  {
   "cell_type": "code",
   "execution_count": 11,
   "id": "13d2feb3",
   "metadata": {},
   "outputs": [],
   "source": [
    "from utils import ALL_SATS, remap_fast_mean"
   ]
  },
  {
   "cell_type": "code",
   "execution_count": 12,
   "id": "dd0e798e",
   "metadata": {},
   "outputs": [],
   "source": [
    "import os"
   ]
  },
  {
   "cell_type": "code",
   "execution_count": 13,
   "id": "7231eeaa",
   "metadata": {},
   "outputs": [],
   "source": [
    "from make_index import get_index_bands"
   ]
  },
  {
   "cell_type": "code",
   "execution_count": 14,
   "id": "e4e165fb",
   "metadata": {},
   "outputs": [],
   "source": [
    "from make_sample import open_index, band_dir_path, read_scene"
   ]
  },
  {
   "cell_type": "code",
   "execution_count": 15,
   "id": "84fe8847",
   "metadata": {},
   "outputs": [],
   "source": [
    "import satpy"
   ]
  },
  {
   "cell_type": "code",
   "execution_count": 16,
   "id": "5c401bba",
   "metadata": {},
   "outputs": [],
   "source": [
    "sys.path.append('/ships19/cloud/scratch/cphillips/utility/')\n",
    "import make_gif"
   ]
  },
  {
   "cell_type": "code",
   "execution_count": 17,
   "id": "e5ea8267",
   "metadata": {},
   "outputs": [],
   "source": [
    "VIDEOS = Path('videos')"
   ]
  },
  {
   "cell_type": "code",
   "execution_count": 18,
   "id": "3d6c3f56",
   "metadata": {},
   "outputs": [],
   "source": [
    "os.environ['XRIT_DECOMPRESS_PATH'] = str(Path('../xrit/PublicDecompWT/xRITDecompress/xRITDecompress').absolute())"
   ]
  },
  {
   "cell_type": "code",
   "execution_count": 19,
   "id": "0f9d650e",
   "metadata": {},
   "outputs": [],
   "source": [
    "COMP_CACHE = Path('../composite_cache/')\n",
    "INDEX = Path('../index')\n",
    "L1B_DIR = Path('../l1b')\n",
    "ABI_SCAN_DIR = Path('../ancil/abi_scan_schedule/')"
   ]
  },
  {
   "cell_type": "code",
   "execution_count": 64,
   "id": "d3e4531b",
   "metadata": {},
   "outputs": [],
   "source": [
    "dt = pd.to_datetime('2020-01-02T00:30')\n",
    "\n",
    "wmo_ids = xr.open_dataset(COMP_CACHE / 'wmo_id.nc').wmo_id\n",
    "sample_mode = xr.open_dataset(COMP_CACHE / 'sample_mode.nc').sample_mode\n",
    "\n",
    "grid_shape = wmo_ids.shape"
   ]
  },
  {
   "cell_type": "code",
   "execution_count": 65,
   "id": "4dbdf2b0",
   "metadata": {},
   "outputs": [
    {
     "name": "stdout",
     "output_type": "stream",
     "text": [
      "GOES-16\n",
      "remap\n",
      "composite\n",
      "GOES-17\n",
      "remap\n",
      "composite\n",
      "Himawari-8\n",
      "remap\n",
      "composite\n",
      "Meteosat-8\n",
      "remap\n",
      "composite\n",
      "Meteosat-11\n",
      "remap\n",
      "composite\n",
      "CPU times: user 6.05 s, sys: 2.16 s, total: 8.21 s\n",
      "Wall time: 17.8 s\n"
     ]
    }
   ],
   "source": [
    "%%time\n",
    "composite = xr.DataArray(np.full(grid_shape, np.nan, dtype=np.float32), dims=['layer','latitude','longitude'])\n",
    "\n",
    "for attrs in ALL_SATS[:]:\n",
    "    print(attrs['name'])\n",
    "    _,index_band = max(get_index_bands(attrs['res']).items())\n",
    "\n",
    "    src_index, dst_index, src_index_nn, dst_index_nn = open_index(INDEX, attrs['sat'], index_band)\n",
    "\n",
    "    band_dir = band_dir_path(L1B_DIR, dt, attrs['sat'], 'temp_11_00um')\n",
    "\n",
    "    files = list(band_dir.glob('*'))\n",
    "    v, area = read_scene(files, attrs['reader'])\n",
    "\n",
    "    reload(timing)\n",
    "\n",
    "    if attrs['reader'] == 'seviri_l1b_hrit':\n",
    "        start_time, line_times = timing.meteosat_get_time_offset(v)\n",
    "        offsets = timing.meteosat_estimate_pixel_time_offsets(line_times)\n",
    "\n",
    "    elif attrs['reader'] == 'ahi_hsd':\n",
    "        start_time, line_times = timing.himawari_line_times(files)\n",
    "        offsets = timing.himawari_estimate_pixel_time_offsets(line_times)\n",
    "\n",
    "    elif attrs['reader'] == 'abi_l1b':\n",
    "        offsets = timing.goes_pixel_time_offset(ABI_SCAN_DIR)\n",
    "        start_time = timing.goes_start_time(files)\n",
    "    adjust = (start_time - dt).total_seconds()\n",
    "    offsets += adjust\n",
    "\n",
    "    print('remap')\n",
    "    out_nn = remap_fast_mean(src_index_nn, dst_index_nn, offsets, grid_shape[-2:])\n",
    "\n",
    "    print('composite')\n",
    "    for layer in range(composite.shape[0]):\n",
    "        mask = (wmo_ids[layer].values  == attrs['wmo_id'])\n",
    "        composite.values[layer, mask] = out_nn[mask]"
   ]
  },
  {
   "cell_type": "code",
   "execution_count": 66,
   "id": "3364b2a4",
   "metadata": {},
   "outputs": [
    {
     "data": {
      "text/plain": [
       "<matplotlib.image.AxesImage at 0x7fc1129b82e0>"
      ]
     },
     "execution_count": 66,
     "metadata": {},
     "output_type": "execute_result"
    },
    {
     "data": {
      "image/png": "[encoded data removed]",
      "text/plain": [
       "<Figure size 1440x720 with 2 Axes>"
      ]
     },
     "metadata": {
      "needs_background": "light"
     },
     "output_type": "display_data"
    }
   ],
   "source": [
    "composite[0].plot.imshow(figsize=(20,10))"
   ]
  },
  {
   "cell_type": "code",
   "execution_count": 58,
   "id": "6da444cd",
   "metadata": {},
   "outputs": [],
   "source": [
    "end_s = composite.max()+10\n",
    "start_s = min(composite.min().item(), 0)"
   ]
  },
  {
   "cell_type": "code",
   "execution_count": 27,
   "id": "913196b6",
   "metadata": {},
   "outputs": [],
   "source": [
    "import PIL.Image"
   ]
  },
  {
   "cell_type": "code",
   "execution_count": 28,
   "id": "4bde937c",
   "metadata": {},
   "outputs": [],
   "source": [
    "cache = COMP_CACHE / dt.strftime('%Y') / dt.strftime('%Y%m') / dt.strftime('%Y%m%d') / dt.strftime('%Y%m%dT%H%M') / 'temp_11_00um.nc'"
   ]
  },
  {
   "cell_type": "code",
   "execution_count": 29,
   "id": "7f3df7ae",
   "metadata": {},
   "outputs": [],
   "source": [
    "bt11 = xr.open_dataset(cache).temp_11_00um.values"
   ]
  },
  {
   "cell_type": "code",
   "execution_count": 30,
   "id": "33f767fc",
   "metadata": {},
   "outputs": [
    {
     "name": "stderr",
     "output_type": "stream",
     "text": [
      "100%|██████████| 229/229 [01:33<00:00,  2.45it/s]\n"
     ]
    }
   ],
   "source": [
    "last_t = 0\n",
    "canvas = np.zeros((*grid_shape[-2:],3), dtype=np.uint8)\n",
    "video = VIDEOS / 'test_timing.mp4'\n",
    "with make_gif.make_video(video, framerate=30) as vid:\n",
    "    with tqdm(np.arange(start_s, end_s, 3.33)) as bar:\n",
    "        for t in bar:\n",
    "            mask = (composite.values >= last_t) & (composite.values< t)\n",
    "            mask_any = mask.any(axis=0)\n",
    "            canvas[mask_any,0] = 255\n",
    "            canvas[mask_any,1] = 0\n",
    "            canvas[mask_any,2] = 0\n",
    "            last_t = t\n",
    "            im = PIL.Image.fromarray(canvas).resize((1024, 512))\n",
    "            im.save(vid,format='png')\n",
    "            idx = np.argmax(mask, axis=0)[np.newaxis]\n",
    "            bt = np.nan_to_num(np.take_along_axis(bt11, idx, axis=0)[0,mask_any], nan=320)\n",
    "            bt = 255-((bt-160)/(320-160)*255).clip(0,255).astype(np.uint8)\n",
    "            canvas[mask_any,0] = bt\n",
    "            canvas[mask_any,1] = bt\n",
    "            canvas[mask_any,2] = bt"
   ]
  },
  {
   "cell_type": "code",
   "execution_count": 95,
   "id": "d4b813db",
   "metadata": {},
   "outputs": [
    {
     "name": "stdout",
     "output_type": "stream",
     "text": [
      "ffmpeg version 4.3.1 Copyright (c) 2000-2020 the FFmpeg developers\n",
      "  built with gcc 7.5.0 (crosstool-NG 1.24.0.131_87df0e6_dirty)\n",
      "  configuration: --prefix=/data/cphillips/miniconda3/envs/ffmpeg --cc=/home/conda/feedstock_root/build_artifacts/ffmpeg_1596712246804/_build_env/bin/x86_64-conda-linux-gnu-cc --disable-doc --disable-openssl --enable-avresample --enable-gnutls --enable-gpl --enable-hardcoded-tables --enable-libfreetype --enable-libopenh264 --enable-libx264 --enable-pic --enable-pthreads --enable-shared --enable-static --enable-version3 --enable-zlib --enable-libmp3lame\n",
      "  libavutil      56. 51.100 / 56. 51.100\n",
      "  libavcodec     58. 91.100 / 58. 91.100\n",
      "  libavformat    58. 45.100 / 58. 45.100\n",
      "  libavdevice    58. 10.100 / 58. 10.100\n",
      "  libavfilter     7. 85.100 /  7. 85.100\n",
      "  libavresample   4.  0.  0 /  4.  0.  0\n",
      "  libswscale      5.  7.100 /  5.  7.100\n",
      "  libswresample   3.  7.100 /  3.  7.100\n",
      "  libpostproc    55.  7.100 / 55.  7.100\n",
      "Input #0, mov,mp4,m4a,3gp,3g2,mj2, from 'videos/test_timing.mp4':\n",
      "  Metadata:\n",
      "    major_brand     : isom\n",
      "    minor_version   : 512\n",
      "    compatible_brands: isomiso2avc1mp41\n",
      "    encoder         : Lavf58.45.100\n",
      "  Duration: 00:00:07.63, start: 0.000000, bitrate: 472 kb/s\n",
      "    Stream #0:0(und): Video: h264 (High 4:4:4 Predictive) (avc1 / 0x31637661), yuv444p, 1024x512, 468 kb/s, 30 fps, 30 tbr, 15360 tbn, 60 tbc (default)\n",
      "    Metadata:\n",
      "      handler_name    : VideoHandler\n",
      "Stream mapping:\n",
      "  Stream #0:0 -> #0:0 (h264 (native) -> gif (native))\n",
      "Press [q] to stop, [?] for help\n",
      "Output #0, gif, to 'videos/test_timing.gif':\n",
      "  Metadata:\n",
      "    major_brand     : isom\n",
      "    minor_version   : 512\n",
      "    compatible_brands: isomiso2avc1mp41\n",
      "    encoder         : Lavf58.45.100\n",
      "    Stream #0:0(und): Video: gif, bgr8, 512x256, q=2-31, 200 kb/s, 20 fps, 100 tbn, 20 tbc (default)\n",
      "    Metadata:\n",
      "      handler_name    : VideoHandler\n",
      "      encoder         : Lavc58.91.100 gif\n",
      "frame=  154 fps=120 q=-0.0 Lsize=    4013kB time=00:00:07.66 bitrate=4291.2kbits/s dup=0 drop=75 speed=5.96x    \n",
      "video:4013kB audio:0kB subtitle:0kB other streams:0kB global headers:0kB muxing overhead: 0.000487%\n"
     ]
    }
   ],
   "source": []
  },
  {
   "cell_type": "code",
   "execution_count": 94,
   "id": "887012cf",
   "metadata": {},
   "outputs": [
    {
     "data": {
      "text/html": [
       "<video autoplay loop controls><source src=\"videos/test_timing.mp4\"/></video>"
      ],
      "text/plain": [
       "<IPython.core.display.HTML object>"
      ]
     },
     "execution_count": 94,
     "metadata": {},
     "output_type": "execute_result"
    }
   ],
   "source": [
    "make_gif.play_video(video)"
   ]
  },
  {
   "cell_type": "markdown",
   "id": "15da1f15",
   "metadata": {},
   "source": [
    "# Do for real"
   ]
  },
  {
   "cell_type": "code",
   "execution_count": 76,
   "id": "1f8bd332",
   "metadata": {},
   "outputs": [],
   "source": [
    "def saveit(composite, out):\n",
    "    fill = netCDF4.default_fillvals['i2']\n",
    "    ds = xr.Dataset()\n",
    "    ds['pixel_time'] = composite.fillna(fill).astype(np.int16)\n",
    "\n",
    "    encoding = {'pixel_time':{'zlib':True,'chunksizes':(1, 1800, 3600), '_FillValue':fill, 'dtype':'i2'}}\n",
    "\n",
    "    ds.to_netcdf(out, encoding=encoding)"
   ]
  },
  {
   "cell_type": "code",
   "execution_count": 70,
   "id": "c028502b",
   "metadata": {},
   "outputs": [],
   "source": [
    "dts = [datetime.strptime(i.name,'%Y%m%dT%H%M') for i in COMP_CACHE.glob('*/*/*/*')]"
   ]
  },
  {
   "cell_type": "code",
   "execution_count": 79,
   "id": "36b9c771",
   "metadata": {},
   "outputs": [
    {
     "name": "stderr",
     "output_type": "stream",
     "text": [
      "Meteosat-8: composite:   0%|          | 0/1827 [00:07<?, ?it/s]"
     ]
    },
    {
     "name": "stdout",
     "output_type": "stream",
     "text": [
      "(\"No dataset matching 'DatasetID(name='IR_108', wavelength=None, resolution=None, polarization=None, calibration=None, level=None, modifiers=None)' found\",)\n"
     ]
    },
    {
     "name": "stderr",
     "output_type": "stream",
     "text": [
      "Meteosat-8: composite:   1%|          | 22/1827 [03:17<7:32:50, 15.05s/it]                                                    "
     ]
    },
    {
     "name": "stdout",
     "output_type": "stream",
     "text": [
      "(\"No dataset matching 'DatasetID(name='IR_108', wavelength=None, resolution=None, polarization=None, calibration=None, level=None, modifiers=None)' found\",)\n"
     ]
    },
    {
     "name": "stderr",
     "output_type": "stream",
     "text": [
      "Meteosat-8: composite:   2%|▏         | 42/1827 [08:30<7:46:51, 15.69s/it]                                                    "
     ]
    },
    {
     "name": "stdout",
     "output_type": "stream",
     "text": [
      "(\"No dataset matching 'DatasetID(name='IR_108', wavelength=None, resolution=None, polarization=None, calibration=None, level=None, modifiers=None)' found\",)\n"
     ]
    },
    {
     "name": "stderr",
     "output_type": "stream",
     "text": [
      "Himawari-8: composite:   3%|▎         | 59/1827 [12:55<7:48:48, 15.91s/it]                                                    "
     ]
    },
    {
     "name": "stdout",
     "output_type": "stream",
     "text": [
      "(\"No dataset matching 'DatasetID(name='IR_108', wavelength=None, resolution=None, polarization=None, calibration=None, level=None, modifiers=None)' found\",)\n"
     ]
    },
    {
     "name": "stderr",
     "output_type": "stream",
     "text": [
      "Meteosat-8: composite:   3%|▎         | 63/1827 [13:57<7:31:22, 15.35s/it]                                                    "
     ]
    },
    {
     "name": "stdout",
     "output_type": "stream",
     "text": [
      "(\"No dataset matching 'DatasetID(name='IR_108', wavelength=None, resolution=None, polarization=None, calibration=None, level=None, modifiers=None)' found\",)\n"
     ]
    },
    {
     "name": "stderr",
     "output_type": "stream",
     "text": [
      "Meteosat-8: composite:   6%|▌         | 102/1827 [24:14<7:37:37, 15.92s/it]                                                    "
     ]
    },
    {
     "name": "stdout",
     "output_type": "stream",
     "text": [
      "(\"No dataset matching 'DatasetID(name='IR_108', wavelength=None, resolution=None, polarization=None, calibration=None, level=None, modifiers=None)' found\",)\n"
     ]
    },
    {
     "name": "stderr",
     "output_type": "stream",
     "text": [
      "Himawari-8: composite:   8%|▊         | 142/1827 [34:32<7:27:41, 15.94s/it]                                                    "
     ]
    },
    {
     "name": "stdout",
     "output_type": "stream",
     "text": [
      "(\"No dataset matching 'DatasetID(name='IR_108', wavelength=None, resolution=None, polarization=None, calibration=None, level=None, modifiers=None)' found\",)\n"
     ]
    },
    {
     "name": "stderr",
     "output_type": "stream",
     "text": [
      "Meteosat-8: composite:  11%|█         | 199/1827 [50:12<7:24:30, 16.38s/it]                                                    "
     ]
    },
    {
     "name": "stdout",
     "output_type": "stream",
     "text": [
      "(\"No dataset matching 'DatasetID(name='IR_108', wavelength=None, resolution=None, polarization=None, calibration=None, level=None, modifiers=None)' found\",)\n"
     ]
    },
    {
     "name": "stderr",
     "output_type": "stream",
     "text": [
      "Himawari-8: composite:  13%|█▎        | 229/1827 [58:19<7:43:11, 17.39s/it]                                                    "
     ]
    },
    {
     "name": "stdout",
     "output_type": "stream",
     "text": [
      "(\"No dataset matching 'DatasetID(name='IR_108', wavelength=None, resolution=None, polarization=None, calibration=None, level=None, modifiers=None)' found\",)\n"
     ]
    },
    {
     "name": "stderr",
     "output_type": "stream",
     "text": [
      "Meteosat-8: composite:  13%|█▎        | 243/1827 [1:01:50<6:56:05, 15.76s/it]                                                    "
     ]
    },
    {
     "name": "stdout",
     "output_type": "stream",
     "text": [
      "(\"No dataset matching 'DatasetID(name='IR_108', wavelength=None, resolution=None, polarization=None, calibration=None, level=None, modifiers=None)' found\",)\n"
     ]
    },
    {
     "name": "stderr",
     "output_type": "stream",
     "text": [
      "Himawari-8: composite:  15%|█▌        | 275/1827 [1:10:09<6:59:27, 16.22s/it]                                                    "
     ]
    },
    {
     "name": "stdout",
     "output_type": "stream",
     "text": [
      "(\"No dataset matching 'DatasetID(name='IR_108', wavelength=None, resolution=None, polarization=None, calibration=None, level=None, modifiers=None)' found\",)\n"
     ]
    },
    {
     "name": "stderr",
     "output_type": "stream",
     "text": [
      "Himawari-8: composite:  23%|██▎       | 412/1827 [1:41:59<6:41:07, 17.01s/it]                                                    "
     ]
    },
    {
     "name": "stdout",
     "output_type": "stream",
     "text": [
      "(\"No dataset matching 'DatasetID(name='IR_108', wavelength=None, resolution=None, polarization=None, calibration=None, level=None, modifiers=None)' found\",)\n"
     ]
    },
    {
     "name": "stderr",
     "output_type": "stream",
     "text": [
      "Himawari-8: composite:  24%|██▎       | 430/1827 [1:46:05<4:27:58, 11.51s/it]                                                    "
     ]
    },
    {
     "name": "stdout",
     "output_type": "stream",
     "text": [
      "(\"No dataset matching 'DatasetID(name='IR_108', wavelength=None, resolution=None, polarization=None, calibration=None, level=None, modifiers=None)' found\",)\n"
     ]
    },
    {
     "name": "stderr",
     "output_type": "stream",
     "text": [
      "Himawari-8: composite:  28%|██▊       | 509/1827 [2:06:47<5:57:15, 16.26s/it]                                                    "
     ]
    },
    {
     "name": "stdout",
     "output_type": "stream",
     "text": [
      "(\"No dataset matching 'DatasetID(name='IR_108', wavelength=None, resolution=None, polarization=None, calibration=None, level=None, modifiers=None)' found\",)\n"
     ]
    },
    {
     "name": "stderr",
     "output_type": "stream",
     "text": [
      "Meteosat-8: composite:  29%|██▉       | 527/1827 [2:12:06<6:33:46, 18.17s/it]                                                    "
     ]
    },
    {
     "name": "stdout",
     "output_type": "stream",
     "text": [
      "(\"No dataset matching 'DatasetID(name='IR_108', wavelength=None, resolution=None, polarization=None, calibration=None, level=None, modifiers=None)' found\",)\n"
     ]
    },
    {
     "name": "stderr",
     "output_type": "stream",
     "text": [
      "Meteosat-8: composite:  29%|██▉       | 529/1827 [2:12:38<6:08:17, 17.02s/it]                                                    "
     ]
    },
    {
     "name": "stdout",
     "output_type": "stream",
     "text": [
      "(\"No dataset matching 'DatasetID(name='IR_108', wavelength=None, resolution=None, polarization=None, calibration=None, level=None, modifiers=None)' found\",)\n"
     ]
    },
    {
     "name": "stderr",
     "output_type": "stream",
     "text": [
      "Meteosat-8: composite:  29%|██▉       | 532/1827 [2:13:31<6:17:59, 17.51s/it]                                                    "
     ]
    },
    {
     "name": "stdout",
     "output_type": "stream",
     "text": [
      "(\"No dataset matching 'DatasetID(name='IR_108', wavelength=None, resolution=None, polarization=None, calibration=None, level=None, modifiers=None)' found\",)\n"
     ]
    },
    {
     "name": "stderr",
     "output_type": "stream",
     "text": [
      "Himawari-8: composite:  32%|███▏      | 586/1827 [2:28:26<5:44:04, 16.64s/it]                                                    "
     ]
    },
    {
     "name": "stdout",
     "output_type": "stream",
     "text": [
      "(\"No dataset matching 'DatasetID(name='IR_108', wavelength=None, resolution=None, polarization=None, calibration=None, level=None, modifiers=None)' found\",)\n"
     ]
    },
    {
     "name": "stderr",
     "output_type": "stream",
     "text": [
      "Meteosat-8: composite:  35%|███▌      | 646/1827 [2:45:06<5:21:51, 16.35s/it]                                                    "
     ]
    },
    {
     "name": "stdout",
     "output_type": "stream",
     "text": [
      "(\"No dataset matching 'DatasetID(name='IR_108', wavelength=None, resolution=None, polarization=None, calibration=None, level=None, modifiers=None)' found\",)\n"
     ]
    },
    {
     "name": "stderr",
     "output_type": "stream",
     "text": [
      "Himawari-8: composite:  36%|███▌      | 662/1827 [2:49:22<5:26:02, 16.79s/it]                                                    "
     ]
    },
    {
     "name": "stdout",
     "output_type": "stream",
     "text": [
      "(\"No dataset matching 'DatasetID(name='IR_108', wavelength=None, resolution=None, polarization=None, calibration=None, level=None, modifiers=None)' found\",)\n"
     ]
    },
    {
     "name": "stderr",
     "output_type": "stream",
     "text": [
      "Meteosat-8: composite:  36%|███▋      | 663/1827 [2:49:37<4:47:33, 14.82s/it]"
     ]
    },
    {
     "name": "stdout",
     "output_type": "stream",
     "text": [
      "(\"No dataset matching 'DatasetID(name='IR_108', wavelength=None, resolution=None, polarization=None, calibration=None, level=None, modifiers=None)' found\",)\n"
     ]
    },
    {
     "name": "stderr",
     "output_type": "stream",
     "text": [
      "Himawari-8: composite:  40%|████      | 732/1827 [3:04:25<3:39:25, 12.02s/it]                                                    "
     ]
    },
    {
     "name": "stdout",
     "output_type": "stream",
     "text": [
      "(\"No dataset matching 'DatasetID(name='IR_108', wavelength=None, resolution=None, polarization=None, calibration=None, level=None, modifiers=None)' found\",)\n"
     ]
    },
    {
     "name": "stderr",
     "output_type": "stream",
     "text": [
      "Himawari-8: composite:  45%|████▍     | 815/1827 [3:19:26<3:37:16, 12.88s/it]"
     ]
    },
    {
     "name": "stdout",
     "output_type": "stream",
     "text": [
      "(\"No dataset matching 'DatasetID(name='IR_108', wavelength=None, resolution=None, polarization=None, calibration=None, level=None, modifiers=None)' found\",)\n"
     ]
    },
    {
     "name": "stderr",
     "output_type": "stream",
     "text": [
      "Himawari-8: composite:  53%|█████▎    | 975/1827 [3:58:27<3:54:07, 16.49s/it]                                                    "
     ]
    },
    {
     "name": "stdout",
     "output_type": "stream",
     "text": [
      "(\"No dataset matching 'DatasetID(name='IR_108', wavelength=None, resolution=None, polarization=None, calibration=None, level=None, modifiers=None)' found\",)\n"
     ]
    },
    {
     "name": "stderr",
     "output_type": "stream",
     "text": [
      "Meteosat-8: composite:  54%|█████▎    | 979/1827 [3:59:28<3:35:40, 15.26s/it]                                                    "
     ]
    },
    {
     "name": "stdout",
     "output_type": "stream",
     "text": [
      "(\"No dataset matching 'DatasetID(name='IR_108', wavelength=None, resolution=None, polarization=None, calibration=None, level=None, modifiers=None)' found\",)\n"
     ]
    },
    {
     "name": "stderr",
     "output_type": "stream",
     "text": [
      "Meteosat-8: composite:  54%|█████▎    | 982/1827 [4:00:13<3:33:27, 15.16s/it]                                                    "
     ]
    },
    {
     "name": "stdout",
     "output_type": "stream",
     "text": [
      "(\"No dataset matching 'DatasetID(name='IR_108', wavelength=None, resolution=None, polarization=None, calibration=None, level=None, modifiers=None)' found\",)\n"
     ]
    },
    {
     "name": "stderr",
     "output_type": "stream",
     "text": [
      "Meteosat-8: composite:  55%|█████▍    | 999/1827 [4:05:04<3:58:52, 17.31s/it]                                                    "
     ]
    },
    {
     "name": "stdout",
     "output_type": "stream",
     "text": [
      "(\"No dataset matching 'DatasetID(name='IR_108', wavelength=None, resolution=None, polarization=None, calibration=None, level=None, modifiers=None)' found\",)\n"
     ]
    },
    {
     "name": "stderr",
     "output_type": "stream",
     "text": [
      "Meteosat-8: composite:  59%|█████▊    | 1070/1827 [4:20:47<3:31:21, 16.75s/it]                                                    "
     ]
    },
    {
     "name": "stdout",
     "output_type": "stream",
     "text": [
      "(\"No dataset matching 'DatasetID(name='IR_108', wavelength=None, resolution=None, polarization=None, calibration=None, level=None, modifiers=None)' found\",)\n"
     ]
    },
    {
     "name": "stderr",
     "output_type": "stream",
     "text": [
      "Himawari-8: composite:  60%|█████▉    | 1091/1827 [4:25:48<2:56:55, 14.42s/it]                                                    "
     ]
    },
    {
     "name": "stdout",
     "output_type": "stream",
     "text": [
      "(\"No dataset matching 'DatasetID(name='IR_108', wavelength=None, resolution=None, polarization=None, calibration=None, level=None, modifiers=None)' found\",)\n"
     ]
    },
    {
     "name": "stderr",
     "output_type": "stream",
     "text": [
      "Himawari-8: composite:  62%|██████▏   | 1135/1827 [4:34:34<1:55:53, 10.05s/it]                                                    "
     ]
    },
    {
     "name": "stdout",
     "output_type": "stream",
     "text": [
      "(\"No dataset matching 'DatasetID(name='IR_108', wavelength=None, resolution=None, polarization=None, calibration=None, level=None, modifiers=None)' found\",)\n"
     ]
    },
    {
     "name": "stderr",
     "output_type": "stream",
     "text": [
      "Himawari-8: composite:  64%|██████▍   | 1165/1827 [4:40:14<2:04:02, 11.24s/it]"
     ]
    },
    {
     "name": "stdout",
     "output_type": "stream",
     "text": [
      "(\"No dataset matching 'DatasetID(name='IR_108', wavelength=None, resolution=None, polarization=None, calibration=None, level=None, modifiers=None)' found\",)\n"
     ]
    },
    {
     "name": "stderr",
     "output_type": "stream",
     "text": [
      "Meteosat-8: composite:  68%|██████▊   | 1246/1827 [4:59:52<2:39:59, 16.52s/it]                                                    "
     ]
    },
    {
     "name": "stdout",
     "output_type": "stream",
     "text": [
      "(\"No dataset matching 'DatasetID(name='IR_108', wavelength=None, resolution=None, polarization=None, calibration=None, level=None, modifiers=None)' found\",)\n"
     ]
    },
    {
     "name": "stderr",
     "output_type": "stream",
     "text": [
      "Himawari-8: composite:  68%|██████▊   | 1250/1827 [5:00:52<2:40:42, 16.71s/it]                                                    "
     ]
    },
    {
     "name": "stdout",
     "output_type": "stream",
     "text": [
      "(\"No dataset matching 'DatasetID(name='IR_108', wavelength=None, resolution=None, polarization=None, calibration=None, level=None, modifiers=None)' found\",)\n"
     ]
    },
    {
     "name": "stderr",
     "output_type": "stream",
     "text": [
      "Meteosat-8: composite:  69%|██████▉   | 1257/1827 [5:02:50<2:41:21, 16.99s/it]                                                    "
     ]
    },
    {
     "name": "stdout",
     "output_type": "stream",
     "text": [
      "(\"No dataset matching 'DatasetID(name='IR_108', wavelength=None, resolution=None, polarization=None, calibration=None, level=None, modifiers=None)' found\",)\n"
     ]
    },
    {
     "name": "stderr",
     "output_type": "stream",
     "text": [
      "Himawari-8: composite:  71%|███████   | 1299/1827 [5:14:31<2:21:48, 16.11s/it]                                                    "
     ]
    },
    {
     "name": "stdout",
     "output_type": "stream",
     "text": [
      "(\"No dataset matching 'DatasetID(name='IR_108', wavelength=None, resolution=None, polarization=None, calibration=None, level=None, modifiers=None)' found\",)\n"
     ]
    },
    {
     "name": "stderr",
     "output_type": "stream",
     "text": [
      "Meteosat-8: composite:  73%|███████▎  | 1331/1827 [5:23:29<2:17:56, 16.69s/it]                                                    "
     ]
    },
    {
     "name": "stdout",
     "output_type": "stream",
     "text": [
      "(\"No dataset matching 'DatasetID(name='IR_108', wavelength=None, resolution=None, polarization=None, calibration=None, level=None, modifiers=None)' found\",)\n"
     ]
    },
    {
     "name": "stderr",
     "output_type": "stream",
     "text": [
      "Meteosat-8: composite:  73%|███████▎  | 1332/1827 [5:23:43<2:12:37, 16.08s/it]"
     ]
    },
    {
     "name": "stdout",
     "output_type": "stream",
     "text": [
      "(\"No dataset matching 'DatasetID(name='IR_108', wavelength=None, resolution=None, polarization=None, calibration=None, level=None, modifiers=None)' found\",)\n"
     ]
    },
    {
     "name": "stderr",
     "output_type": "stream",
     "text": [
      "Meteosat-8: composite:  73%|███████▎  | 1341/1827 [5:26:09<2:13:16, 16.45s/it]                                                    "
     ]
    },
    {
     "name": "stdout",
     "output_type": "stream",
     "text": [
      "(\"No dataset matching 'DatasetID(name='IR_108', wavelength=None, resolution=None, polarization=None, calibration=None, level=None, modifiers=None)' found\",)\n"
     ]
    },
    {
     "name": "stderr",
     "output_type": "stream",
     "text": [
      "Meteosat-8: composite:  74%|███████▍  | 1356/1827 [5:30:19<2:14:01, 17.07s/it]                                                    "
     ]
    },
    {
     "name": "stdout",
     "output_type": "stream",
     "text": [
      "(\"No dataset matching 'DatasetID(name='IR_108', wavelength=None, resolution=None, polarization=None, calibration=None, level=None, modifiers=None)' found\",)\n"
     ]
    },
    {
     "name": "stderr",
     "output_type": "stream",
     "text": [
      "Meteosat-8: composite:  76%|███████▌  | 1382/1827 [5:37:42<2:12:37, 17.88s/it]                                                    "
     ]
    },
    {
     "name": "stdout",
     "output_type": "stream",
     "text": [
      "(\"No dataset matching 'DatasetID(name='IR_108', wavelength=None, resolution=None, polarization=None, calibration=None, level=None, modifiers=None)' found\",)\n"
     ]
    },
    {
     "name": "stderr",
     "output_type": "stream",
     "text": [
      "Meteosat-8: composite:  77%|███████▋  | 1415/1827 [5:47:06<2:11:31, 19.15s/it]                                                    "
     ]
    },
    {
     "name": "stdout",
     "output_type": "stream",
     "text": [
      "(\"No dataset matching 'DatasetID(name='IR_108', wavelength=None, resolution=None, polarization=None, calibration=None, level=None, modifiers=None)' found\",)\n"
     ]
    },
    {
     "name": "stderr",
     "output_type": "stream",
     "text": [
      "Himawari-8: composite:  78%|███████▊  | 1417/1827 [5:47:34<2:05:37, 18.39s/it]                                                    "
     ]
    },
    {
     "name": "stdout",
     "output_type": "stream",
     "text": [
      "(\"No dataset matching 'DatasetID(name='IR_108', wavelength=None, resolution=None, polarization=None, calibration=None, level=None, modifiers=None)' found\",)\n"
     ]
    },
    {
     "name": "stderr",
     "output_type": "stream",
     "text": [
      "Himawari-8: composite:  81%|████████▏ | 1489/1827 [6:03:20<1:04:26, 11.44s/it]                                                    "
     ]
    },
    {
     "name": "stdout",
     "output_type": "stream",
     "text": [
      "(\"No dataset matching 'DatasetID(name='IR_108', wavelength=None, resolution=None, polarization=None, calibration=None, level=None, modifiers=None)' found\",)\n"
     ]
    },
    {
     "name": "stderr",
     "output_type": "stream",
     "text": [
      "Himawari-8: composite:  82%|████████▏ | 1490/1827 [6:03:31<1:01:27, 10.94s/it]"
     ]
    },
    {
     "name": "stdout",
     "output_type": "stream",
     "text": [
      "(\"No dataset matching 'DatasetID(name='IR_108', wavelength=None, resolution=None, polarization=None, calibration=None, level=None, modifiers=None)' found\",)\n"
     ]
    },
    {
     "name": "stderr",
     "output_type": "stream",
     "text": [
      "Meteosat-8: composite:  82%|████████▏ | 1504/1827 [6:07:33<1:29:39, 16.65s/it]                                                    "
     ]
    },
    {
     "name": "stdout",
     "output_type": "stream",
     "text": [
      "(\"No dataset matching 'DatasetID(name='IR_108', wavelength=None, resolution=None, polarization=None, calibration=None, level=None, modifiers=None)' found\",)\n"
     ]
    },
    {
     "name": "stderr",
     "output_type": "stream",
     "text": [
      "Himawari-8: composite:  83%|████████▎ | 1517/1827 [6:11:00<1:24:40, 16.39s/it]                                                    "
     ]
    },
    {
     "name": "stdout",
     "output_type": "stream",
     "text": [
      "(\"No dataset matching 'DatasetID(name='IR_108', wavelength=None, resolution=None, polarization=None, calibration=None, level=None, modifiers=None)' found\",)\n"
     ]
    },
    {
     "name": "stderr",
     "output_type": "stream",
     "text": [
      "Himawari-8: composite:  84%|████████▍ | 1537/1827 [6:16:25<1:23:51, 17.35s/it]                                                    "
     ]
    },
    {
     "name": "stdout",
     "output_type": "stream",
     "text": [
      "(\"No dataset matching 'DatasetID(name='IR_108', wavelength=None, resolution=None, polarization=None, calibration=None, level=None, modifiers=None)' found\",)\n"
     ]
    },
    {
     "name": "stderr",
     "output_type": "stream",
     "text": [
      "Himawari-8: composite:  87%|████████▋ | 1593/1827 [6:27:15<48:24, 12.41s/it]  "
     ]
    },
    {
     "name": "stdout",
     "output_type": "stream",
     "text": [
      "(\"No dataset matching 'DatasetID(name='IR_108', wavelength=None, resolution=None, polarization=None, calibration=None, level=None, modifiers=None)' found\",)\n"
     ]
    },
    {
     "name": "stderr",
     "output_type": "stream",
     "text": [
      "Himawari-8: composite:  90%|█████████ | 1651/1827 [6:40:44<57:15, 19.52s/it]                                                    "
     ]
    },
    {
     "name": "stdout",
     "output_type": "stream",
     "text": [
      "(\"No dataset matching 'DatasetID(name='IR_108', wavelength=None, resolution=None, polarization=None, calibration=None, level=None, modifiers=None)' found\",)\n"
     ]
    },
    {
     "name": "stderr",
     "output_type": "stream",
     "text": [
      "Himawari-8: composite:  92%|█████████▏| 1675/1827 [6:47:36<42:59, 16.97s/it]                                                    "
     ]
    },
    {
     "name": "stdout",
     "output_type": "stream",
     "text": [
      "(\"No dataset matching 'DatasetID(name='IR_108', wavelength=None, resolution=None, polarization=None, calibration=None, level=None, modifiers=None)' found\",)\n"
     ]
    },
    {
     "name": "stderr",
     "output_type": "stream",
     "text": [
      "Himawari-8: composite:  93%|█████████▎| 1700/1827 [6:53:13<24:58, 11.80s/it]                                                    "
     ]
    },
    {
     "name": "stdout",
     "output_type": "stream",
     "text": [
      "(\"No dataset matching 'DatasetID(name='IR_108', wavelength=None, resolution=None, polarization=None, calibration=None, level=None, modifiers=None)' found\",)\n"
     ]
    },
    {
     "name": "stderr",
     "output_type": "stream",
     "text": [
      "Himawari-8: composite:  95%|█████████▌| 1742/1827 [7:01:32<19:48, 13.98s/it]                                                    "
     ]
    },
    {
     "name": "stdout",
     "output_type": "stream",
     "text": [
      "(\"No dataset matching 'DatasetID(name='IR_108', wavelength=None, resolution=None, polarization=None, calibration=None, level=None, modifiers=None)' found\",)\n"
     ]
    },
    {
     "name": "stderr",
     "output_type": "stream",
     "text": [
      "Himawari-8: composite:  96%|█████████▌| 1758/1827 [7:04:52<15:06, 13.13s/it]                                                    "
     ]
    },
    {
     "name": "stdout",
     "output_type": "stream",
     "text": [
      "(\"No dataset matching 'DatasetID(name='IR_108', wavelength=None, resolution=None, polarization=None, calibration=None, level=None, modifiers=None)' found\",)\n"
     ]
    },
    {
     "name": "stderr",
     "output_type": "stream",
     "text": [
      "Himawari-8: composite:  97%|█████████▋| 1775/1827 [7:08:12<10:51, 12.53s/it]                                                    "
     ]
    },
    {
     "name": "stdout",
     "output_type": "stream",
     "text": [
      "(\"No dataset matching 'DatasetID(name='IR_108', wavelength=None, resolution=None, polarization=None, calibration=None, level=None, modifiers=None)' found\",)\n"
     ]
    },
    {
     "name": "stderr",
     "output_type": "stream",
     "text": [
      "Himawari-8: composite:  98%|█████████▊| 1797/1827 [7:12:29<05:40, 11.34s/it]"
     ]
    },
    {
     "name": "stdout",
     "output_type": "stream",
     "text": [
      "(\"No dataset matching 'DatasetID(name='IR_108', wavelength=None, resolution=None, polarization=None, calibration=None, level=None, modifiers=None)' found\",)\n"
     ]
    },
    {
     "name": "stderr",
     "output_type": "stream",
     "text": [
      "Saved ../composite_cache/2020/202002/20200201/20200201T0000/pixel_time.nc: 100%|██████████| 1827/1827 [7:18:00<00:00, 14.38s/it]\n"
     ]
    }
   ],
   "source": [
    "errors = []\n",
    "with tqdm(dts) as bar:\n",
    "    for dt in bar:\n",
    "        \n",
    "        out_dir = COMP_CACHE / dt.strftime('%Y') / dt.strftime('%Y%m') / dt.strftime('%Y%m%d') / dt.strftime('%Y%m%dT%H%M')\n",
    "        out_path = out_dir / 'pixel_time.nc'\n",
    "        if out_path.exists():\n",
    "            continue\n",
    "\n",
    "        composite = xr.DataArray(np.full(grid_shape, np.nan, dtype=np.float32), dims=['layer','latitude','longitude'])\n",
    "\n",
    "        try:\n",
    "            for attrs in ALL_SATS[:]:\n",
    "                prefix = (attrs['name'])\n",
    "                _,index_band = max(get_index_bands(attrs['res']).items())\n",
    "\n",
    "                src_index, dst_index, src_index_nn, dst_index_nn = open_index(INDEX, attrs['sat'], index_band)\n",
    "\n",
    "                band_dir = band_dir_path(L1B_DIR, dt, attrs['sat'], 'temp_11_00um')\n",
    "\n",
    "                files = list(band_dir.glob('*'))\n",
    "                v, area = read_scene(files, attrs['reader'])\n",
    "\n",
    "                reload(timing)\n",
    "\n",
    "                if attrs['reader'] == 'seviri_l1b_hrit':\n",
    "                    start_time, line_times = timing.meteosat_get_time_offset(v)\n",
    "                    offsets = timing.meteosat_estimate_pixel_time_offsets(line_times)\n",
    "\n",
    "                elif attrs['reader'] == 'ahi_hsd':\n",
    "                    start_time, line_times = timing.himawari_line_times(files)\n",
    "                    offsets = timing.himawari_estimate_pixel_time_offsets(line_times)\n",
    "\n",
    "                elif attrs['reader'] == 'abi_l1b':\n",
    "                    offsets = timing.goes_pixel_time_offset(ABI_SCAN_DIR)\n",
    "                    start_time = timing.goes_start_time(files)\n",
    "                adjust = (start_time - dt).total_seconds()\n",
    "                offsets += adjust\n",
    "\n",
    "                bar.set_description(f'{prefix}: remap')\n",
    "                out_nn = remap_fast_mean(src_index_nn, dst_index_nn, offsets, grid_shape[-2:])\n",
    "\n",
    "                bar.set_description(f'{prefix}: composite')\n",
    "                for layer in range(composite.shape[0]):\n",
    "                    mask = (wmo_ids[layer].values  == attrs['wmo_id'])\n",
    "                    composite.values[layer, mask] = out_nn[mask]\n",
    "            saveit(composite, out_path)\n",
    "            bar.set_description(f'Saved {out_path}')\n",
    "        except OSError:\n",
    "            errors.append(dt)"
   ]
  },
  {
   "cell_type": "markdown",
   "id": "cb3cb89f",
   "metadata": {},
   "source": [
    "# Save"
   ]
  },
  {
   "cell_type": "code",
   "execution_count": 73,
   "id": "b598d329",
   "metadata": {},
   "outputs": [],
   "source": [
    "#saveit(composite, COMP_CACHE / 'pixel_time.nc')"
   ]
  },
  {
   "cell_type": "code",
   "execution_count": 74,
   "id": "31acb83e",
   "metadata": {},
   "outputs": [],
   "source": [
    "#(COMP_CACHE / 'pixel_time.nc').stat().st_size/1e6"
   ]
  },
  {
   "cell_type": "code",
   "execution_count": null,
   "id": "537928f1",
   "metadata": {},
   "outputs": [],
   "source": []
  }
 ],
 "metadata": {
  "kernelspec": {
   "display_name": "Python 3",
   "language": "python",
   "name": "python3"
  },
  "language_info": {
   "codemirror_mode": {
    "name": "ipython",
    "version": 3
   },
   "file_extension": ".py",
   "mimetype": "text/x-python",
   "name": "python",
   "nbconvert_exporter": "python",
   "pygments_lexer": "ipython3",
   "version": "3.8.5"
  }
 },
 "nbformat": 4,
 "nbformat_minor": 5
}
