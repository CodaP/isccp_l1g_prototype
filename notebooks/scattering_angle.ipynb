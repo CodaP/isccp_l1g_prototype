{
 "cells": [
  {
   "cell_type": "code",
   "execution_count": 1,
   "id": "69297d2f",
   "metadata": {},
   "outputs": [
    {
     "name": "stdout",
     "output_type": "stream",
     "text": [
      "Populating the interactive namespace from numpy and matplotlib\n",
      "/ships19/cloud/scratch/cphillips/isccp_l1g\n"
     ]
    }
   ],
   "source": [
    "%pylab inline\n",
    "%cd .."
   ]
  },
  {
   "cell_type": "code",
   "execution_count": 8,
   "id": "3c4a5a25",
   "metadata": {},
   "outputs": [],
   "source": [
    "def relative_azimuth(sol_az ,sen_az):\n",
    "    \"\"\"\n",
    "    Represents the relative difference in solar and sensor azimuth angles\n",
    "    \n",
    "    Defined so that values less than 90 degrees are for pixels that are between the sub-sat and the sun.\n",
    "    Pixels with values greater than 90 are the opposite side of the sun.\n",
    "    Glint always occours with values less than 90.0.\n",
    "    This definition has always been used in CLAVR-x\n",
    "    Range is 0 to 180.0\n",
    "    \"\"\"\n",
    "    sol_az = np.atleast_1d(sol_az)\n",
    "    sen_az = np.atleast_1d(sen_az)\n",
    "    relative_azimuth = abs(sol_az - sen_az)\n",
    "    \n",
    "    mask = relative_azimuth > 180.0\n",
    "    relative_azimuth[mask]  = 360.0 - relative_azimuth[mask]\n",
    "    relative_azimuth = 180.0 - relative_azimuth\n",
    "    return relative_azimuth"
   ]
  },
  {
   "cell_type": "code",
   "execution_count": 26,
   "id": "16c14da0",
   "metadata": {},
   "outputs": [
    {
     "data": {
      "text/plain": [
       "array([180.])"
      ]
     },
     "execution_count": 26,
     "metadata": {},
     "output_type": "execute_result"
    }
   ],
   "source": [
    "relative_azimuth(180,180)"
   ]
  },
  {
   "cell_type": "code",
   "execution_count": 27,
   "id": "0ab316b9",
   "metadata": {},
   "outputs": [],
   "source": [
    "def scattering_angle(sol_zen, sen_zen, rel_az):\n",
    "    \"\"\"\n",
    "    The angle between the sun, the pixel and sensor\n",
    "    \n",
    "    A value of 180.0 would imply pure backscatter.\n",
    "    A value of zero would imply pure forward scatter (not seen in satellite remote sensing).\n",
    "    Values less than 90 imply forward scattering.\n",
    "    Range is 0 to 180.0\n",
    "    \"\"\"\n",
    "    sol_zen = np.deg2rad(np.atleast_1d(sol_zen))\n",
    "    sen_zen = np.deg2rad(np.atleast_1d(sen_zen))\n",
    "    rel_az = np.deg2rad(np.atleast_1d(rel_az))\n",
    "    \n",
    "    scattering_angle = (np.cos(sol_zen)*np.cos(sen_zen)\n",
    "                        - np.sin(sol_zen)*np.sin(sen_zen)*np.cos(rel_az))\n",
    "\n",
    "    scattering_angle = -1.0*scattering_angle\n",
    "    scattering_angle = scattering_angle.clip(-1,1)\n",
    "    scattering_angle = np.rad2deg(np.arccos(scattering_angle))\n",
    "    return scattering_angle"
   ]
  },
  {
   "cell_type": "code",
   "execution_count": 25,
   "id": "9e08ec2d",
   "metadata": {},
   "outputs": [
    {
     "data": {
      "text/plain": [
       "array([180.])"
      ]
     },
     "execution_count": 25,
     "metadata": {},
     "output_type": "execute_result"
    }
   ],
   "source": [
    "scattering_angle(50,50,180)"
   ]
  },
  {
   "cell_type": "code",
   "execution_count": null,
   "id": "40a91332",
   "metadata": {},
   "outputs": [],
   "source": []
  }
 ],
 "metadata": {
  "kernelspec": {
   "display_name": "Python 3",
   "language": "python",
   "name": "python3"
  },
  "language_info": {
   "codemirror_mode": {
    "name": "ipython",
    "version": 3
   },
   "file_extension": ".py",
   "mimetype": "text/x-python",
   "name": "python",
   "nbconvert_exporter": "python",
   "pygments_lexer": "ipython3",
   "version": "3.8.5"
  }
 },
 "nbformat": 4,
 "nbformat_minor": 5
}
