{
 "cells": [
  {
   "cell_type": "code",
   "execution_count": 2,
   "id": "136f8020",
   "metadata": {},
   "outputs": [
    {
     "name": "stdout",
     "output_type": "stream",
     "text": [
      "Populating the interactive namespace from numpy and matplotlib\n"
     ]
    }
   ],
   "source": [
    "%pylab inline"
   ]
  },
  {
   "cell_type": "code",
   "execution_count": 3,
   "id": "e7225141",
   "metadata": {},
   "outputs": [],
   "source": [
    "import xarray as xr\n",
    "import numpy as np"
   ]
  },
  {
   "cell_type": "code",
   "execution_count": 4,
   "id": "8a08e66e",
   "metadata": {},
   "outputs": [],
   "source": [
    "from pathlib import Path"
   ]
  },
  {
   "cell_type": "code",
   "execution_count": 6,
   "id": "46e93aaf",
   "metadata": {},
   "outputs": [],
   "source": [
    "DEMO = Path('../demo_20210520/2020/202007/20200701/')"
   ]
  },
  {
   "cell_type": "code",
   "execution_count": 10,
   "id": "5176348f",
   "metadata": {},
   "outputs": [],
   "source": [
    "min_files = sorted(DEMO.glob('*/*refl_00_65um_min_*'))\n",
    "max_files = sorted(DEMO.glob('*/*refl_00_65um_max_*'))\n",
    "mean_files = sorted(DEMO.glob('*/*refl_00_65um_2*'))"
   ]
  },
  {
   "cell_type": "code",
   "execution_count": 43,
   "id": "e5c4fa52",
   "metadata": {},
   "outputs": [],
   "source": [
    "mins = []\n",
    "for f in min_files:\n",
    "    ds = xr.open_dataset(f)\n",
    "    mins.append(ds.refl_00_65um_min.sel(latitude=0, longitude=-75, method='nearest').sel(layer=0))\n",
    "    ds.close()\n",
    "\n",
    "mins = xr.concat(mins, dim='time')"
   ]
  },
  {
   "cell_type": "code",
   "execution_count": 44,
   "id": "118114a1",
   "metadata": {},
   "outputs": [],
   "source": [
    "maxs = []\n",
    "for f in max_files:\n",
    "    ds = xr.open_dataset(f)\n",
    "    maxs.append(ds.refl_00_65um_max.sel(latitude=0, longitude=-75, method='nearest').sel(layer=0))\n",
    "    ds.close()\n",
    "\n",
    "maxs = xr.concat(maxs, dim='time')"
   ]
  },
  {
   "cell_type": "code",
   "execution_count": 45,
   "id": "e366b50f",
   "metadata": {},
   "outputs": [],
   "source": [
    "means = []\n",
    "for f in mean_files:\n",
    "    ds = xr.open_dataset(f)\n",
    "    means.append(ds.refl_00_65um.sel(latitude=0, longitude=-75, method='nearest').sel(layer=0))\n",
    "    ds.close()\n",
    "\n",
    "means = xr.concat(means, dim='time')"
   ]
  },
  {
   "cell_type": "code",
   "execution_count": 47,
   "id": "a8d5ce32",
   "metadata": {},
   "outputs": [
    {
     "data": {
      "text/plain": [
       "<matplotlib.collections.PolyCollection at 0x7fb684b22a00>"
      ]
     },
     "execution_count": 47,
     "metadata": {},
     "output_type": "execute_result"
    },
    {
     "data": {
      "image/png": "[encoded data removed]",
      "text/plain": [
       "<Figure size 864x360 with 1 Axes>"
      ]
     },
     "metadata": {
      "needs_background": "light"
     },
     "output_type": "display_data"
    }
   ],
   "source": [
    "figure(figsize=(12,5))\n",
    "fill_between(mins.time, mins-means, maxs-means)\n",
    "#plot(means.time, means, color='k', linestyle='--')"
   ]
  },
  {
   "cell_type": "code",
   "execution_count": null,
   "id": "2b73b2f0",
   "metadata": {},
   "outputs": [],
   "source": []
  }
 ],
 "metadata": {
  "kernelspec": {
   "display_name": "Python 3",
   "language": "python",
   "name": "python3"
  },
  "language_info": {
   "codemirror_mode": {
    "name": "ipython",
    "version": 3
   },
   "file_extension": ".py",
   "mimetype": "text/x-python",
   "name": "python",
   "nbconvert_exporter": "python",
   "pygments_lexer": "ipython3",
   "version": "3.8.5"
  }
 },
 "nbformat": 4,
 "nbformat_minor": 5
}
