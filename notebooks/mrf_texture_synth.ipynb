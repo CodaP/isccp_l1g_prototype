{
 "cells": [
  {
   "cell_type": "code",
   "execution_count": 1,
   "id": "b54669ce",
   "metadata": {},
   "outputs": [
    {
     "name": "stdout",
     "output_type": "stream",
     "text": [
      "Populating the interactive namespace from numpy and matplotlib\n"
     ]
    }
   ],
   "source": [
    "%pylab inline"
   ]
  },
  {
   "cell_type": "code",
   "execution_count": 2,
   "id": "bb1c473d",
   "metadata": {},
   "outputs": [],
   "source": [
    "import cartopy.crs as ccrs"
   ]
  },
  {
   "cell_type": "code",
   "execution_count": 19,
   "id": "9f94c888",
   "metadata": {},
   "outputs": [],
   "source": [
    "import torch\n",
    "import torch.nn\n",
    "import torch.nn.functional as F"
   ]
  },
  {
   "cell_type": "code",
   "execution_count": 66,
   "id": "b4b0fb3d",
   "metadata": {},
   "outputs": [],
   "source": [
    "import scipy.ndimage.filters"
   ]
  },
  {
   "cell_type": "code",
   "execution_count": 78,
   "id": "51caca6b",
   "metadata": {},
   "outputs": [],
   "source": [
    "import scipy.signal"
   ]
  },
  {
   "cell_type": "code",
   "execution_count": 34,
   "id": "fdda9897",
   "metadata": {},
   "outputs": [],
   "source": [
    "import PIL.Image"
   ]
  },
  {
   "cell_type": "code",
   "execution_count": 35,
   "id": "1c680576",
   "metadata": {},
   "outputs": [],
   "source": [
    "def make_image(x):\n",
    "    scaled = (np.nan_to_num(x).clip(200,296)-200)/(296-200)*255\n",
    "    return PIL.Image.fromarray(255 - scaled.astype(np.uint8))"
   ]
  },
  {
   "cell_type": "code",
   "execution_count": 173,
   "id": "9bc9336b",
   "metadata": {},
   "outputs": [],
   "source": [
    "def resize(im, size=(512,512)):\n",
    "    return im.resize(size, resample=PIL.Image.NEAREST)"
   ]
  },
  {
   "cell_type": "code",
   "execution_count": 3,
   "id": "d71d3b10",
   "metadata": {},
   "outputs": [],
   "source": [
    "from tqdm import tqdm"
   ]
  },
  {
   "cell_type": "code",
   "execution_count": 4,
   "id": "fb0d1479",
   "metadata": {},
   "outputs": [
    {
     "name": "stdout",
     "output_type": "stream",
     "text": [
      "/ships19/cloud/scratch/cphillips/isccp_l1g\n"
     ]
    }
   ],
   "source": [
    "%cd .."
   ]
  },
  {
   "cell_type": "code",
   "execution_count": 5,
   "id": "ec26d883",
   "metadata": {},
   "outputs": [],
   "source": [
    "import sys \n",
    "sys.path.append('/ships19/cloud/scratch/cphillips/utility')\n",
    "from make_gif import make_video, render_fast, play_video"
   ]
  },
  {
   "cell_type": "code",
   "execution_count": 6,
   "id": "8ee2b8c2",
   "metadata": {},
   "outputs": [],
   "source": [
    "import xarray as xr"
   ]
  },
  {
   "cell_type": "code",
   "execution_count": 7,
   "id": "1274afc9",
   "metadata": {},
   "outputs": [],
   "source": [
    "from pathlib import Path"
   ]
  },
  {
   "cell_type": "code",
   "execution_count": 8,
   "id": "1c5a8724",
   "metadata": {},
   "outputs": [
    {
     "name": "stdout",
     "output_type": "stream",
     "text": [
      "(3, 3600, 7200)\n"
     ]
    }
   ],
   "source": [
    "import make_sample"
   ]
  },
  {
   "cell_type": "code",
   "execution_count": 9,
   "id": "805bffe1",
   "metadata": {},
   "outputs": [],
   "source": [
    "AHI_PROJ = ccrs.Geostationary(140.7)"
   ]
  },
  {
   "cell_type": "code",
   "execution_count": 10,
   "id": "83d8c011",
   "metadata": {},
   "outputs": [],
   "source": [
    "files = list(Path('l1b/2020/202007/20200701/20200701T0000/h8/temp_10_40um/').glob('*'))"
   ]
  },
  {
   "cell_type": "code",
   "execution_count": 11,
   "id": "cf857925",
   "metadata": {},
   "outputs": [],
   "source": [
    "scene, area = make_sample.read_scene(files, None)"
   ]
  },
  {
   "cell_type": "code",
   "execution_count": 12,
   "id": "305d1222",
   "metadata": {},
   "outputs": [],
   "source": [
    "search = scene[2000:2512,2000:2512].load().values"
   ]
  },
  {
   "cell_type": "code",
   "execution_count": 656,
   "id": "2a897fde",
   "metadata": {},
   "outputs": [],
   "source": [
    "tile = scene[2256:2512,2512:2512+256].load().values\n",
    "search=tile"
   ]
  },
  {
   "cell_type": "code",
   "execution_count": 657,
   "id": "32436f16",
   "metadata": {},
   "outputs": [],
   "source": [
    "tile = tile[:64,:64]\n",
    "search = tile"
   ]
  },
  {
   "cell_type": "code",
   "execution_count": 658,
   "id": "88a82325",
   "metadata": {},
   "outputs": [],
   "source": [
    "# tile = tile[::2,::2]\n",
    "# search = tile"
   ]
  },
  {
   "cell_type": "code",
   "execution_count": 659,
   "id": "4de993a8",
   "metadata": {},
   "outputs": [],
   "source": [
    "#tile[:] = 295\n",
    "#x,y = np.meshgrid(np.arange(tile.shape[0]), np.arange(tile.shape[1]))"
   ]
  },
  {
   "cell_type": "code",
   "execution_count": 660,
   "id": "64750801",
   "metadata": {},
   "outputs": [],
   "source": [
    "#tile[(((x/10) % 1 - .5)**2 + ((y/10) % 1 - .5)**2) < .05] = 250"
   ]
  },
  {
   "cell_type": "code",
   "execution_count": 661,
   "id": "1efe3bcd",
   "metadata": {},
   "outputs": [
    {
     "data": {
      "image/png": "[encoded data removed]",
      "text/plain": [
       "<PIL.Image.Image image mode=L size=512x512 at 0x7FA41B4A4460>"
      ]
     },
     "execution_count": 661,
     "metadata": {},
     "output_type": "execute_result"
    }
   ],
   "source": [
    "resize(make_image(tile))"
   ]
  },
  {
   "cell_type": "code",
   "execution_count": 725,
   "id": "db5b9455",
   "metadata": {},
   "outputs": [],
   "source": [
    "s = 1\n",
    "template_size = 8\n",
    "canvas = np.full((64*s,64*s), np.nan, dtype=np.float64)\n",
    "\n",
    "np.random.seed(0)\n",
    "# Fill first 2 lines and first 2 columns of 3rd\n",
    "seed = tile.ravel()[np.random.randint(0, tile.size-1, canvas.shape[1]*(template_size-1))]\n",
    "canvas.ravel()[:len(seed)] = seed\n",
    "seed = tile.ravel()[np.random.randint(0, tile.size-1, canvas.shape[0]*(template_size-1))]\n",
    "canvas[:,:template_size-1] = seed.reshape((-1,template_size-1))\n",
    "# canvas[:,:template_size-1] = 295\n",
    "# canvas[:template_size-1] = 295\n",
    "canvas[:,:template_size-1] = tile[:,:template_size-1]\n",
    "canvas[:template_size-1] = tile[:template_size-1]"
   ]
  },
  {
   "cell_type": "code",
   "execution_count": 728,
   "id": "4df0602e",
   "metadata": {},
   "outputs": [
    {
     "data": {
      "text/plain": [
       "<matplotlib.colorbar.Colorbar at 0x7fa41abafc40>"
      ]
     },
     "execution_count": 728,
     "metadata": {},
     "output_type": "execute_result"
    },
    {
     "data": {
      "image/png": "[encoded data removed]",
      "text/plain": [
       "<Figure size 432x288 with 2 Axes>"
      ]
     },
     "metadata": {
      "needs_background": "light"
     },
     "output_type": "display_data"
    }
   ],
   "source": [
    "weights = np.zeros((template_size*2+1,template_size*2+1))\n",
    "weights[template_size,template_size] = 1\n",
    "weights = scipy.ndimage.filters.gaussian_filter(weights, 5)[:template_size,:template_size]\n",
    "weights[template_size-1,template_size-1] = 0\n",
    "weights /= weights.sum()\n",
    "imshow(weights)\n",
    "colorbar()"
   ]
  },
  {
   "cell_type": "code",
   "execution_count": 729,
   "id": "7cea7829",
   "metadata": {},
   "outputs": [],
   "source": [
    "tile_view = np.lib.stride_tricks.sliding_window_view(tile, (template_size,template_size))"
   ]
  },
  {
   "cell_type": "code",
   "execution_count": 730,
   "id": "d6d355f6",
   "metadata": {},
   "outputs": [
    {
     "name": "stderr",
     "output_type": "stream",
     "text": [
      "100%|██████████| 57/57 [00:08<00:00,  6.98it/s]\n"
     ]
    }
   ],
   "source": [
    "topk = 5\n",
    "with tqdm(range(template_size-1, canvas.shape[0])) as bar:\n",
    "    for i in bar:\n",
    "        for j in range(template_size-1, canvas.shape[1]):\n",
    "            template = canvas[i-template_size+1:i+1,j-template_size+1:j+1]\n",
    "            sqr_err = ((tile_view - np.nan_to_num(template[np.newaxis,np.newaxis]))**2)\n",
    "            mean_sqr_err = (sqr_err*weights).sum(axis=(2,3))\n",
    "            best_i, best_j = np.unravel_index(np.argpartition(mean_sqr_err.ravel(), topk)[:topk], mean_sqr_err.shape)\n",
    "            #best_i, best_j = np.unravel_index(mean_sqr_err.argmin(), mean_sqr_err.shape)\n",
    "            choice = np.random.randint(0,topk)\n",
    "            best_i = best_i[choice]\n",
    "            best_j = best_j[choice]\n",
    "            s = tile[best_i:best_i+template_size, best_j:best_j+template_size]\n",
    "            canvas[i,j] = s[-1,-1]\n",
    "#             break\n",
    "#         break"
   ]
  },
  {
   "cell_type": "code",
   "execution_count": 731,
   "id": "204b1629",
   "metadata": {},
   "outputs": [
    {
     "data": {
      "image/png": "[encoded data removed]",
      "text/plain": [
       "<PIL.Image.Image image mode=L size=512x512 at 0x7FA41AD73C70>"
      ]
     },
     "execution_count": 731,
     "metadata": {},
     "output_type": "execute_result"
    }
   ],
   "source": [
    "resize(make_image(s))"
   ]
  },
  {
   "cell_type": "code",
   "execution_count": 732,
   "id": "2dcc39c7",
   "metadata": {},
   "outputs": [
    {
     "data": {
      "image/png": "[encoded data removed]",
      "text/plain": [
       "<PIL.Image.Image image mode=L size=512x512 at 0x7FA41ACEDEB0>"
      ]
     },
     "execution_count": 732,
     "metadata": {},
     "output_type": "execute_result"
    }
   ],
   "source": [
    "resize(make_image(template))"
   ]
  },
  {
   "cell_type": "code",
   "execution_count": 733,
   "id": "996146d0",
   "metadata": {},
   "outputs": [
    {
     "data": {
      "image/png": "[encoded data removed]",
      "text/plain": [
       "<PIL.Image.Image image mode=L size=512x512 at 0x7FA41AB230D0>"
      ]
     },
     "execution_count": 733,
     "metadata": {},
     "output_type": "execute_result"
    }
   ],
   "source": [
    "resize(make_image(canvas[:,:]))"
   ]
  },
  {
   "cell_type": "code",
   "execution_count": 734,
   "id": "197b0ce7",
   "metadata": {},
   "outputs": [
    {
     "data": {
      "text/plain": [
       "(64, 64)"
      ]
     },
     "execution_count": 734,
     "metadata": {},
     "output_type": "execute_result"
    }
   ],
   "source": [
    "tile.shape"
   ]
  },
  {
   "cell_type": "code",
   "execution_count": 735,
   "id": "923788f5",
   "metadata": {},
   "outputs": [
    {
     "data": {
      "image/png": "[encoded data removed]",
      "text/plain": [
       "<PIL.Image.Image image mode=L size=512x512 at 0x7FA41AB19C40>"
      ]
     },
     "execution_count": 735,
     "metadata": {},
     "output_type": "execute_result"
    }
   ],
   "source": [
    "resize(make_image(tile))"
   ]
  },
  {
   "cell_type": "code",
   "execution_count": null,
   "id": "0ad71fa0",
   "metadata": {},
   "outputs": [],
   "source": []
  }
 ],
 "metadata": {
  "kernelspec": {
   "display_name": "Python 3",
   "language": "python",
   "name": "python3"
  },
  "language_info": {
   "codemirror_mode": {
    "name": "ipython",
    "version": 3
   },
   "file_extension": ".py",
   "mimetype": "text/x-python",
   "name": "python",
   "nbconvert_exporter": "python",
   "pygments_lexer": "ipython3",
   "version": "3.8.5"
  }
 },
 "nbformat": 4,
 "nbformat_minor": 5
}
