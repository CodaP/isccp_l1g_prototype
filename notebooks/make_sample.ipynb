{
 "cells": [
  {
   "cell_type": "code",
   "execution_count": 1,
   "metadata": {},
   "outputs": [
    {
     "name": "stdout",
     "output_type": "stream",
     "text": [
      "Populating the interactive namespace from numpy and matplotlib\n"
     ]
    }
   ],
   "source": [
    "%pylab inline"
   ]
  },
  {
   "cell_type": "code",
   "execution_count": 2,
   "metadata": {},
   "outputs": [],
   "source": [
    "import satpy\n",
    "from satpy.readers.utils import get_geostationary_angle_extent"
   ]
  },
  {
   "cell_type": "code",
   "execution_count": 3,
   "metadata": {},
   "outputs": [],
   "source": [
    "from pathlib import Path"
   ]
  },
  {
   "cell_type": "code",
   "execution_count": 19,
   "metadata": {},
   "outputs": [],
   "source": [
    "import numpy as np\n",
    "import pandas as pd\n",
    "import xarray as xr\n",
    "\n",
    "import netCDF4\n",
    "\n",
    "from tqdm import tqdm\n",
    "\n",
    "import cartopy.crs as ccrs\n",
    "\n",
    "import warnings\n",
    "\n",
    "from utils import spherical_angle_add, ALL_CHANNELS, AHI_BANDS, ABI_BANDS, remap"
   ]
  },
  {
   "cell_type": "code",
   "execution_count": 9,
   "metadata": {},
   "outputs": [],
   "source": [
    "%load_ext autoreload\n",
    "%autoreload 2"
   ]
  },
  {
   "cell_type": "code",
   "execution_count": 11,
   "metadata": {},
   "outputs": [],
   "source": [
    "%aimport make_sample"
   ]
  },
  {
   "cell_type": "code",
   "execution_count": 23,
   "metadata": {},
   "outputs": [],
   "source": [
    "dt = '20200930T0200'"
   ]
  },
  {
   "cell_type": "code",
   "execution_count": 26,
   "metadata": {},
   "outputs": [
    {
     "name": "stderr",
     "output_type": "stream",
     "text": [
      "Compositing: 100%|██████████| 3/3 [00:13<00:00,  4.37s/it]        \n"
     ]
    },
    {
     "name": "stdout",
     "output_type": "stream",
     "text": [
      "Saving composite_cache/20200930T0200/temp_11_00um.nc\n",
      "Took 16.7 sec\n"
     ]
    },
    {
     "name": "stderr",
     "output_type": "stream",
     "text": [
      "Compositing: 100%|██████████| 3/3 [00:30<00:00, 10.27s/it]       \n"
     ]
    },
    {
     "name": "stdout",
     "output_type": "stream",
     "text": [
      "Saving composite_cache/20200930T0200/refl_00_47um.nc\n",
      "Took 34.3 sec\n"
     ]
    },
    {
     "name": "stderr",
     "output_type": "stream",
     "text": [
      "  0%|          | 0/3 [00:00<?, ?it/s]"
     ]
    },
    {
     "name": "stdout",
     "output_type": "stream",
     "text": [
      "g16 has no refl_00_51um\n",
      "g17 has no refl_00_51um\n"
     ]
    },
    {
     "name": "stderr",
     "output_type": "stream",
     "text": [
      "Compositing: 100%|██████████| 3/3 [00:11<00:00,  3.84s/it]\n"
     ]
    },
    {
     "name": "stdout",
     "output_type": "stream",
     "text": [
      "Saving composite_cache/20200930T0200/refl_00_51um.nc\n",
      "Took 14.4 sec\n"
     ]
    },
    {
     "name": "stderr",
     "output_type": "stream",
     "text": [
      "Compositing: 100%|██████████| 3/3 [01:57<00:00, 39.11s/it]       \n"
     ]
    },
    {
     "name": "stdout",
     "output_type": "stream",
     "text": [
      "Saving composite_cache/20200930T0200/refl_00_65um.nc\n",
      "Took 121.1 sec\n"
     ]
    },
    {
     "name": "stderr",
     "output_type": "stream",
     "text": [
      "Compositing: 100%|██████████| 3/3 [00:36<00:00, 12.07s/it]       \n"
     ]
    },
    {
     "name": "stdout",
     "output_type": "stream",
     "text": [
      "Saving composite_cache/20200930T0200/refl_00_86um.nc\n",
      "Took 40.2 sec\n"
     ]
    },
    {
     "name": "stderr",
     "output_type": "stream",
     "text": [
      "Compositing: 100%|██████████| 3/3 [00:08<00:00,  2.91s/it]       \n"
     ]
    },
    {
     "name": "stdout",
     "output_type": "stream",
     "text": [
      "h8 has no refl_01_38um\n",
      "Saving composite_cache/20200930T0200/refl_01_38um.nc\n",
      "Took 11.9 sec\n"
     ]
    },
    {
     "name": "stderr",
     "output_type": "stream",
     "text": [
      "Compositing: 100%|██████████| 3/3 [00:26<00:00,  8.98s/it]       \n"
     ]
    },
    {
     "name": "stdout",
     "output_type": "stream",
     "text": [
      "Saving composite_cache/20200930T0200/refl_01_60um.nc\n",
      "Took 30.5 sec\n"
     ]
    },
    {
     "name": "stderr",
     "output_type": "stream",
     "text": [
      "Compositing: 100%|██████████| 3/3 [00:13<00:00,  4.66s/it]       \n"
     ]
    },
    {
     "name": "stdout",
     "output_type": "stream",
     "text": [
      "Saving composite_cache/20200930T0200/refl_02_20um.nc\n",
      "Took 17.3 sec\n"
     ]
    },
    {
     "name": "stderr",
     "output_type": "stream",
     "text": [
      "Compositing: 100%|██████████| 3/3 [00:16<00:00,  5.34s/it]       \n"
     ]
    },
    {
     "name": "stdout",
     "output_type": "stream",
     "text": [
      "Saving composite_cache/20200930T0200/temp_03_80um.nc\n",
      "Took 19.6 sec\n"
     ]
    },
    {
     "name": "stderr",
     "output_type": "stream",
     "text": [
      "Compositing: 100%|██████████| 3/3 [00:17<00:00,  5.70s/it]       \n"
     ]
    },
    {
     "name": "stdout",
     "output_type": "stream",
     "text": [
      "Saving composite_cache/20200930T0200/temp_06_20um.nc\n",
      "Took 20.4 sec\n"
     ]
    },
    {
     "name": "stderr",
     "output_type": "stream",
     "text": [
      "Compositing: 100%|██████████| 3/3 [00:15<00:00,  5.15s/it]       \n"
     ]
    },
    {
     "name": "stdout",
     "output_type": "stream",
     "text": [
      "Saving composite_cache/20200930T0200/temp_06_70um.nc\n",
      "Took 18.8 sec\n"
     ]
    },
    {
     "name": "stderr",
     "output_type": "stream",
     "text": [
      "Compositing: 100%|██████████| 3/3 [00:16<00:00,  5.34s/it]        \n"
     ]
    },
    {
     "name": "stdout",
     "output_type": "stream",
     "text": [
      "Saving composite_cache/20200930T0200/temp_07_30um.nc\n",
      "Took 19.5 sec\n"
     ]
    },
    {
     "name": "stderr",
     "output_type": "stream",
     "text": [
      "Compositing: 100%|██████████| 3/3 [00:15<00:00,  5.18s/it]        \n"
     ]
    },
    {
     "name": "stdout",
     "output_type": "stream",
     "text": [
      "Saving composite_cache/20200930T0200/temp_08_50um.nc\n",
      "Took 19.1 sec\n"
     ]
    },
    {
     "name": "stderr",
     "output_type": "stream",
     "text": [
      "Compositing: 100%|██████████| 3/3 [00:16<00:00,  5.36s/it]        \n"
     ]
    },
    {
     "name": "stdout",
     "output_type": "stream",
     "text": [
      "Saving composite_cache/20200930T0200/temp_09_70um.nc\n",
      "Took 19.6 sec\n"
     ]
    },
    {
     "name": "stderr",
     "output_type": "stream",
     "text": [
      "Compositing: 100%|██████████| 3/3 [00:15<00:00,  5.19s/it]        \n"
     ]
    },
    {
     "name": "stdout",
     "output_type": "stream",
     "text": [
      "Saving composite_cache/20200930T0200/temp_10_40um.nc\n"
     ]
    },
    {
     "name": "stderr",
     "output_type": "stream",
     "text": [
      "  0%|          | 0/3 [00:00<?, ?it/s]"
     ]
    },
    {
     "name": "stdout",
     "output_type": "stream",
     "text": [
      "Took 19.1 sec\n"
     ]
    },
    {
     "name": "stderr",
     "output_type": "stream",
     "text": [
      "Compositing: 100%|██████████| 3/3 [00:12<00:00,  4.18s/it]        \n"
     ]
    },
    {
     "name": "stdout",
     "output_type": "stream",
     "text": [
      "Saving composite_cache/20200930T0200/temp_11_00um.nc\n"
     ]
    },
    {
     "name": "stderr",
     "output_type": "stream",
     "text": [
      "  0%|          | 0/3 [00:00<?, ?it/s]"
     ]
    },
    {
     "name": "stdout",
     "output_type": "stream",
     "text": [
      "Took 16.1 sec\n"
     ]
    },
    {
     "name": "stderr",
     "output_type": "stream",
     "text": [
      "Compositing: 100%|██████████| 3/3 [00:15<00:00,  5.31s/it]        \n"
     ]
    },
    {
     "name": "stdout",
     "output_type": "stream",
     "text": [
      "Saving composite_cache/20200930T0200/temp_12_00um.nc\n",
      "Took 19.4 sec\n"
     ]
    },
    {
     "name": "stderr",
     "output_type": "stream",
     "text": [
      "Compositing: 100%|██████████| 3/3 [00:15<00:00,  5.21s/it]        \n"
     ]
    },
    {
     "name": "stdout",
     "output_type": "stream",
     "text": [
      "Saving composite_cache/20200930T0200/temp_13_30um.nc\n",
      "Took 19.1 sec\n"
     ]
    }
   ],
   "source": [
    "make_sample.main(dt)"
   ]
  },
  {
   "cell_type": "code",
   "execution_count": 9,
   "metadata": {},
   "outputs": [],
   "source": [
    "L1B = Path('l1b')\n",
    "INDEX = Path('index')"
   ]
  },
  {
   "cell_type": "code",
   "execution_count": 11,
   "metadata": {},
   "outputs": [],
   "source": [
    "COMP_CACHE = Path('composite_cache')"
   ]
  },
  {
   "cell_type": "code",
   "execution_count": null,
   "metadata": {},
   "outputs": [],
   "source": []
  },
  {
   "cell_type": "code",
   "execution_count": 12,
   "metadata": {},
   "outputs": [],
   "source": [
    "grid_width = int(360/.05)\n",
    "grid_height = int(180/.05)\n",
    "grid_shape = grid_height, grid_width"
   ]
  },
  {
   "cell_type": "code",
   "execution_count": 20,
   "metadata": {},
   "outputs": [],
   "source": [
    "wmo_ids = xr.open_dataset(COMP_CACHE / 'wmo_id.nc').wmo_id"
   ]
  },
  {
   "cell_type": "code",
   "execution_count": 24,
   "metadata": {},
   "outputs": [],
   "source": [
    "encoding = {\n",
    "    'zlib':True,\n",
    "    'dtype':'i2',\n",
    "    '_FillValue':netCDF4.default_fillvals['i2'],\n",
    "    'scale_factor':.01,\n",
    "    'add_offset':50\n",
    "}"
   ]
  },
  {
   "cell_type": "code",
   "execution_count": 31,
   "metadata": {},
   "outputs": [
    {
     "name": "stdout",
     "output_type": "stream",
     "text": [
      "composite_cache/20200925T1800/temp_11_00um.nc\n"
     ]
    }
   ],
   "source": [
    "for k in ALL_CHANNELS:\n",
    "    f = COMP_CACHE / dt/ f'{k}.nc'\n",
    "    if f.is_file():\n",
    "        f.unlink()\n",
    "        print(f)"
   ]
  },
  {
   "cell_type": "code",
   "execution_count": 32,
   "metadata": {},
   "outputs": [
    {
     "name": "stderr",
     "output_type": "stream",
     "text": [
      "Compositing: 100%|██████████| 3/3 [00:12<00:00,  4.11s/it]        \n"
     ]
    },
    {
     "name": "stdout",
     "output_type": "stream",
     "text": [
      "Saving composite_cache/20200925T1800/temp_11_00um.nc\n",
      "Took 15.9 sec\n"
     ]
    },
    {
     "name": "stderr",
     "output_type": "stream",
     "text": [
      "Compositing: 100%|██████████| 3/3 [00:25<00:00,  8.66s/it]       \n"
     ]
    },
    {
     "name": "stdout",
     "output_type": "stream",
     "text": [
      "Saving composite_cache/20200925T1800/refl_00_47um.nc\n",
      "Took 29.6 sec\n"
     ]
    },
    {
     "name": "stderr",
     "output_type": "stream",
     "text": [
      "  0%|          | 0/3 [00:00<?, ?it/s]"
     ]
    },
    {
     "name": "stdout",
     "output_type": "stream",
     "text": [
      "g16 has no refl_00_51um\n",
      "g17 has no refl_00_51um\n"
     ]
    },
    {
     "name": "stderr",
     "output_type": "stream",
     "text": [
      "Compositing: 100%|██████████| 3/3 [00:08<00:00,  2.84s/it]\n"
     ]
    },
    {
     "name": "stdout",
     "output_type": "stream",
     "text": [
      "Saving composite_cache/20200925T1800/refl_00_51um.nc\n",
      "Took 11.3 sec\n"
     ]
    },
    {
     "name": "stderr",
     "output_type": "stream",
     "text": [
      "Compositing: 100%|██████████| 3/3 [01:29<00:00, 29.91s/it]       \n"
     ]
    },
    {
     "name": "stdout",
     "output_type": "stream",
     "text": [
      "Saving composite_cache/20200925T1800/refl_00_65um.nc\n",
      "Took 93.6 sec\n"
     ]
    },
    {
     "name": "stderr",
     "output_type": "stream",
     "text": [
      "Compositing: 100%|██████████| 3/3 [00:30<00:00, 10.02s/it]       \n"
     ]
    },
    {
     "name": "stdout",
     "output_type": "stream",
     "text": [
      "Saving composite_cache/20200925T1800/refl_00_86um.nc\n",
      "Took 33.8 sec\n"
     ]
    },
    {
     "name": "stderr",
     "output_type": "stream",
     "text": [
      "Compositing: 100%|██████████| 3/3 [00:07<00:00,  2.59s/it]       \n"
     ]
    },
    {
     "name": "stdout",
     "output_type": "stream",
     "text": [
      "h8 has no refl_01_38um\n",
      "Saving composite_cache/20200925T1800/refl_01_38um.nc\n",
      "Took 10.7 sec\n"
     ]
    },
    {
     "name": "stderr",
     "output_type": "stream",
     "text": [
      "Compositing: 100%|██████████| 3/3 [00:23<00:00,  7.76s/it]       \n"
     ]
    },
    {
     "name": "stdout",
     "output_type": "stream",
     "text": [
      "Saving composite_cache/20200925T1800/refl_01_60um.nc\n",
      "Took 26.9 sec\n"
     ]
    },
    {
     "name": "stderr",
     "output_type": "stream",
     "text": [
      "Compositing: 100%|██████████| 3/3 [00:11<00:00,  3.96s/it]       \n"
     ]
    },
    {
     "name": "stdout",
     "output_type": "stream",
     "text": [
      "Saving composite_cache/20200925T1800/refl_02_20um.nc\n",
      "Took 15.3 sec\n"
     ]
    },
    {
     "name": "stderr",
     "output_type": "stream",
     "text": [
      "Compositing: 100%|██████████| 3/3 [00:13<00:00,  4.34s/it]       \n"
     ]
    },
    {
     "name": "stdout",
     "output_type": "stream",
     "text": [
      "Saving composite_cache/20200925T1800/temp_03_80um.nc\n",
      "Took 16.7 sec\n"
     ]
    },
    {
     "name": "stderr",
     "output_type": "stream",
     "text": [
      "Compositing: 100%|██████████| 3/3 [00:12<00:00,  4.21s/it]       \n"
     ]
    },
    {
     "name": "stdout",
     "output_type": "stream",
     "text": [
      "Saving composite_cache/20200925T1800/temp_06_20um.nc\n",
      "Took 16.0 sec\n"
     ]
    },
    {
     "name": "stderr",
     "output_type": "stream",
     "text": [
      "Compositing: 100%|██████████| 3/3 [00:13<00:00,  4.38s/it]       \n"
     ]
    },
    {
     "name": "stdout",
     "output_type": "stream",
     "text": [
      "Saving composite_cache/20200925T1800/temp_06_70um.nc\n",
      "Took 16.5 sec\n"
     ]
    },
    {
     "name": "stderr",
     "output_type": "stream",
     "text": [
      "Compositing: 100%|██████████| 3/3 [00:12<00:00,  4.18s/it]        \n"
     ]
    },
    {
     "name": "stdout",
     "output_type": "stream",
     "text": [
      "Saving composite_cache/20200925T1800/temp_07_30um.nc\n",
      "Took 16.0 sec\n"
     ]
    },
    {
     "name": "stderr",
     "output_type": "stream",
     "text": [
      "Compositing: 100%|██████████| 3/3 [00:13<00:00,  4.42s/it]        \n"
     ]
    },
    {
     "name": "stdout",
     "output_type": "stream",
     "text": [
      "Saving composite_cache/20200925T1800/temp_08_50um.nc\n",
      "Took 16.8 sec\n"
     ]
    },
    {
     "name": "stderr",
     "output_type": "stream",
     "text": [
      "Compositing: 100%|██████████| 3/3 [00:12<00:00,  4.22s/it]        \n"
     ]
    },
    {
     "name": "stdout",
     "output_type": "stream",
     "text": [
      "Saving composite_cache/20200925T1800/temp_09_70um.nc\n",
      "Took 16.3 sec\n"
     ]
    },
    {
     "name": "stderr",
     "output_type": "stream",
     "text": [
      "Compositing: 100%|██████████| 3/3 [00:12<00:00,  4.15s/it]        \n"
     ]
    },
    {
     "name": "stdout",
     "output_type": "stream",
     "text": [
      "Saving composite_cache/20200925T1800/temp_10_40um.nc\n",
      "Took 16.0 sec\n"
     ]
    },
    {
     "name": "stderr",
     "output_type": "stream",
     "text": [
      "Compositing: 100%|██████████| 3/3 [00:12<00:00,  4.16s/it]        \n"
     ]
    },
    {
     "name": "stdout",
     "output_type": "stream",
     "text": [
      "Saving composite_cache/20200925T1800/temp_11_00um.nc\n",
      "Took 16.0 sec\n"
     ]
    },
    {
     "name": "stderr",
     "output_type": "stream",
     "text": [
      "Compositing: 100%|██████████| 3/3 [00:13<00:00,  4.34s/it]        \n"
     ]
    },
    {
     "name": "stdout",
     "output_type": "stream",
     "text": [
      "Saving composite_cache/20200925T1800/temp_12_00um.nc\n",
      "Took 17.0 sec\n"
     ]
    },
    {
     "name": "stderr",
     "output_type": "stream",
     "text": [
      "Compositing: 100%|██████████| 3/3 [00:13<00:00,  4.60s/it]        \n"
     ]
    },
    {
     "name": "stdout",
     "output_type": "stream",
     "text": [
      "Saving composite_cache/20200925T1800/temp_13_30um.nc\n",
      "Took 17.6 sec\n"
     ]
    }
   ],
   "source": [
    "ordered_channels = ['temp_11_00um', *sorted(ALL_CHANNELS - set('temp_11_0um'))]\n",
    "for channel in ordered_channels:\n",
    "    out_dir = COMP_CACHE / dt\n",
    "    out_dir.mkdir(exist_ok=True)\n",
    "    out_nc = out_dir / f'{channel}.nc'\n",
    "#     if out_nc.is_file():\n",
    "#         print(f'Already have {out_nc}')\n",
    "#         continue\n",
    "    start = time.time()\n",
    "    composite = xr.DataArray(np.full((3, *grid_shape), np.nan, dtype=np.float32), dims=['layer','lat','lon'])\n",
    "    with tqdm([('g16','abi_l1b', ABI_BANDS, 152),\n",
    "               ('g17','abi_l1b', ABI_BANDS, 664),\n",
    "               ('h8','ahi_hsd', AHI_BANDS, 167)]) as bar:\n",
    "        for sat, reader, band_map, wmo_id in bar:\n",
    "            if channel in band_map:\n",
    "                band = band_map[channel]\n",
    "            else:\n",
    "                print(f'{sat} has no {channel}')\n",
    "                continue\n",
    "            if sat.startswith('g'):\n",
    "                index_band = {1:1,3:1,5:1,2:2}.get(band, 14)\n",
    "            else:\n",
    "                index_band = {1:1,2:1,3:3,4:1}.get(band, 14)\n",
    "            dt_dir = L1B/sat/dt\n",
    "            index_dir = INDEX / sat / f'{index_band:02d}'\n",
    "            src_index = np.memmap(index_dir / 'src_index.dat', mode='r', dtype=np.uint64)\n",
    "            dst_index = np.memmap(index_dir / 'dst_index.dat', mode='r', dtype=np.uint64)\n",
    "            assert index_dir.is_dir()\n",
    "            band_dir = dt_dir / f'{band:02d}'\n",
    "            assert band_dir.is_dir()\n",
    "            files = list(band_dir.glob('*'))\n",
    "            with warnings.catch_warnings():\n",
    "                warnings.simplefilter('ignore')\n",
    "                scene = satpy.Scene(files, reader=reader)\n",
    "                ds_names = scene.available_dataset_names()\n",
    "                scene.load(ds_names)\n",
    "                area = scene[ds_names[0]].area\n",
    "                bar.set_description(f'Loading {sat} band {band}')\n",
    "                v = scene[ds_names[0]].values\n",
    "            bar.set_description('Remapping imagery')\n",
    "            out = remap(src_index, dst_index, v, grid_shape)\n",
    "            scene.unload()\n",
    "            bar.set_description('Compositing')\n",
    "            for layer in range(composite.shape[0]):\n",
    "                mask = wmo_ids[layer].values == wmo_id\n",
    "                composite.values[layer, mask] = out[mask]\n",
    "    print(f\"Saving {out_nc}\")\n",
    "    composite.to_dataset(name=channel).to_netcdf(out_nc, encoding={channel:encoding})\n",
    "    end = time.time()\n",
    "    dur = end - start\n",
    "    print(f'Took {dur:.1f} sec')"
   ]
  },
  {
   "cell_type": "code",
   "execution_count": null,
   "metadata": {},
   "outputs": [],
   "source": []
  }
 ],
 "metadata": {
  "kernelspec": {
   "display_name": "Python 3",
   "language": "python",
   "name": "python3"
  },
  "language_info": {
   "codemirror_mode": {
    "name": "ipython",
    "version": 3
   },
   "file_extension": ".py",
   "mimetype": "text/x-python",
   "name": "python",
   "nbconvert_exporter": "python",
   "pygments_lexer": "ipython3",
   "version": "3.8.5"
  }
 },
 "nbformat": 4,
 "nbformat_minor": 4
}
